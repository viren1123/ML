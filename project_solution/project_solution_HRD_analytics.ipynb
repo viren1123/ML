{
 "cells": [
  {
   "cell_type": "code",
   "execution_count": 3,
   "metadata": {},
   "outputs": [],
   "source": [
    "# to handle datasets\n",
    "import pandas as pd\n",
    "import numpy as np\n",
    "\n",
    "# for plotting\n",
    "import matplotlib.pyplot as plt\n",
    "%matplotlib inline\n",
    "\n",
    "# to divide train and test set\n",
    "from sklearn.preprocessing import LabelEncoder\n",
    "from sklearn.model_selection import train_test_split\n",
    "\n",
    "# feature scaling\n",
    "from sklearn.preprocessing import MinMaxScaler\n",
    "\n",
    "# to build the models\n",
    "from sklearn.linear_model import LogisticRegression\n",
    "from sklearn.ensemble import AdaBoostClassifier\n",
    "from sklearn.ensemble import RandomForestClassifier\n",
    "import xgboost as xgb\n",
    "\n",
    "# to evaluate the models\n",
    "from sklearn.metrics import roc_auc_score\n",
    "from sklearn import metrics\n",
    "\n",
    "pd.pandas.set_option('display.max_columns', None)\n",
    "\n",
    "import warnings\n",
    "warnings.filterwarnings('ignore')"
   ]
  },
  {
   "cell_type": "code",
   "execution_count": 4,
   "metadata": {},
   "outputs": [
    {
     "data": {
      "text/html": [
       "<div>\n",
       "<style scoped>\n",
       "    .dataframe tbody tr th:only-of-type {\n",
       "        vertical-align: middle;\n",
       "    }\n",
       "\n",
       "    .dataframe tbody tr th {\n",
       "        vertical-align: top;\n",
       "    }\n",
       "\n",
       "    .dataframe thead th {\n",
       "        text-align: right;\n",
       "    }\n",
       "</style>\n",
       "<table border=\"1\" class=\"dataframe\">\n",
       "  <thead>\n",
       "    <tr style=\"text-align: right;\">\n",
       "      <th></th>\n",
       "      <th>Age</th>\n",
       "      <th>Attrition</th>\n",
       "      <th>BusinessTravel</th>\n",
       "      <th>DailyRate</th>\n",
       "      <th>Department</th>\n",
       "      <th>DistanceFromHome</th>\n",
       "      <th>Education</th>\n",
       "      <th>EducationField</th>\n",
       "      <th>EmployeeCount</th>\n",
       "      <th>EmployeeNumber</th>\n",
       "      <th>EnvironmentSatisfaction</th>\n",
       "      <th>Gender</th>\n",
       "      <th>HourlyRate</th>\n",
       "      <th>JobInvolvement</th>\n",
       "      <th>JobLevel</th>\n",
       "      <th>JobRole</th>\n",
       "      <th>JobSatisfaction</th>\n",
       "      <th>MaritalStatus</th>\n",
       "      <th>MonthlyIncome</th>\n",
       "      <th>MonthlyRate</th>\n",
       "      <th>NumCompaniesWorked</th>\n",
       "      <th>Over18</th>\n",
       "      <th>OverTime</th>\n",
       "      <th>PercentSalaryHike</th>\n",
       "      <th>PerformanceRating</th>\n",
       "      <th>RelationshipSatisfaction</th>\n",
       "      <th>StandardHours</th>\n",
       "      <th>StockOptionLevel</th>\n",
       "      <th>TotalWorkingYears</th>\n",
       "      <th>TrainingTimesLastYear</th>\n",
       "      <th>WorkLifeBalance</th>\n",
       "      <th>YearsAtCompany</th>\n",
       "      <th>YearsInCurrentRole</th>\n",
       "      <th>YearsSinceLastPromotion</th>\n",
       "      <th>YearsWithCurrManager</th>\n",
       "    </tr>\n",
       "  </thead>\n",
       "  <tbody>\n",
       "    <tr>\n",
       "      <th>0</th>\n",
       "      <td>41</td>\n",
       "      <td>Yes</td>\n",
       "      <td>Travel_Rarely</td>\n",
       "      <td>1102</td>\n",
       "      <td>Sales</td>\n",
       "      <td>1</td>\n",
       "      <td>2</td>\n",
       "      <td>Life Sciences</td>\n",
       "      <td>1</td>\n",
       "      <td>1</td>\n",
       "      <td>2</td>\n",
       "      <td>Female</td>\n",
       "      <td>94</td>\n",
       "      <td>3</td>\n",
       "      <td>2</td>\n",
       "      <td>Sales Executive</td>\n",
       "      <td>4</td>\n",
       "      <td>Single</td>\n",
       "      <td>5993</td>\n",
       "      <td>19479</td>\n",
       "      <td>8</td>\n",
       "      <td>Y</td>\n",
       "      <td>Yes</td>\n",
       "      <td>11</td>\n",
       "      <td>3</td>\n",
       "      <td>1</td>\n",
       "      <td>80</td>\n",
       "      <td>0</td>\n",
       "      <td>8</td>\n",
       "      <td>0</td>\n",
       "      <td>1</td>\n",
       "      <td>6</td>\n",
       "      <td>4</td>\n",
       "      <td>0</td>\n",
       "      <td>5</td>\n",
       "    </tr>\n",
       "    <tr>\n",
       "      <th>1</th>\n",
       "      <td>49</td>\n",
       "      <td>No</td>\n",
       "      <td>Travel_Frequently</td>\n",
       "      <td>279</td>\n",
       "      <td>Research &amp; Development</td>\n",
       "      <td>8</td>\n",
       "      <td>1</td>\n",
       "      <td>Life Sciences</td>\n",
       "      <td>1</td>\n",
       "      <td>2</td>\n",
       "      <td>3</td>\n",
       "      <td>Male</td>\n",
       "      <td>61</td>\n",
       "      <td>2</td>\n",
       "      <td>2</td>\n",
       "      <td>Research Scientist</td>\n",
       "      <td>2</td>\n",
       "      <td>Married</td>\n",
       "      <td>5130</td>\n",
       "      <td>24907</td>\n",
       "      <td>1</td>\n",
       "      <td>Y</td>\n",
       "      <td>No</td>\n",
       "      <td>23</td>\n",
       "      <td>4</td>\n",
       "      <td>4</td>\n",
       "      <td>80</td>\n",
       "      <td>1</td>\n",
       "      <td>10</td>\n",
       "      <td>3</td>\n",
       "      <td>3</td>\n",
       "      <td>10</td>\n",
       "      <td>7</td>\n",
       "      <td>1</td>\n",
       "      <td>7</td>\n",
       "    </tr>\n",
       "    <tr>\n",
       "      <th>2</th>\n",
       "      <td>37</td>\n",
       "      <td>Yes</td>\n",
       "      <td>Travel_Rarely</td>\n",
       "      <td>1373</td>\n",
       "      <td>Research &amp; Development</td>\n",
       "      <td>2</td>\n",
       "      <td>2</td>\n",
       "      <td>Other</td>\n",
       "      <td>1</td>\n",
       "      <td>4</td>\n",
       "      <td>4</td>\n",
       "      <td>Male</td>\n",
       "      <td>92</td>\n",
       "      <td>2</td>\n",
       "      <td>1</td>\n",
       "      <td>Laboratory Technician</td>\n",
       "      <td>3</td>\n",
       "      <td>Single</td>\n",
       "      <td>2090</td>\n",
       "      <td>2396</td>\n",
       "      <td>6</td>\n",
       "      <td>Y</td>\n",
       "      <td>Yes</td>\n",
       "      <td>15</td>\n",
       "      <td>3</td>\n",
       "      <td>2</td>\n",
       "      <td>80</td>\n",
       "      <td>0</td>\n",
       "      <td>7</td>\n",
       "      <td>3</td>\n",
       "      <td>3</td>\n",
       "      <td>0</td>\n",
       "      <td>0</td>\n",
       "      <td>0</td>\n",
       "      <td>0</td>\n",
       "    </tr>\n",
       "    <tr>\n",
       "      <th>3</th>\n",
       "      <td>33</td>\n",
       "      <td>No</td>\n",
       "      <td>Travel_Frequently</td>\n",
       "      <td>1392</td>\n",
       "      <td>Research &amp; Development</td>\n",
       "      <td>3</td>\n",
       "      <td>4</td>\n",
       "      <td>Life Sciences</td>\n",
       "      <td>1</td>\n",
       "      <td>5</td>\n",
       "      <td>4</td>\n",
       "      <td>Female</td>\n",
       "      <td>56</td>\n",
       "      <td>3</td>\n",
       "      <td>1</td>\n",
       "      <td>Research Scientist</td>\n",
       "      <td>3</td>\n",
       "      <td>Married</td>\n",
       "      <td>2909</td>\n",
       "      <td>23159</td>\n",
       "      <td>1</td>\n",
       "      <td>Y</td>\n",
       "      <td>Yes</td>\n",
       "      <td>11</td>\n",
       "      <td>3</td>\n",
       "      <td>3</td>\n",
       "      <td>80</td>\n",
       "      <td>0</td>\n",
       "      <td>8</td>\n",
       "      <td>3</td>\n",
       "      <td>3</td>\n",
       "      <td>8</td>\n",
       "      <td>7</td>\n",
       "      <td>3</td>\n",
       "      <td>0</td>\n",
       "    </tr>\n",
       "    <tr>\n",
       "      <th>4</th>\n",
       "      <td>27</td>\n",
       "      <td>No</td>\n",
       "      <td>Travel_Rarely</td>\n",
       "      <td>591</td>\n",
       "      <td>Research &amp; Development</td>\n",
       "      <td>2</td>\n",
       "      <td>1</td>\n",
       "      <td>Medical</td>\n",
       "      <td>1</td>\n",
       "      <td>7</td>\n",
       "      <td>1</td>\n",
       "      <td>Male</td>\n",
       "      <td>40</td>\n",
       "      <td>3</td>\n",
       "      <td>1</td>\n",
       "      <td>Laboratory Technician</td>\n",
       "      <td>2</td>\n",
       "      <td>Married</td>\n",
       "      <td>3468</td>\n",
       "      <td>16632</td>\n",
       "      <td>9</td>\n",
       "      <td>Y</td>\n",
       "      <td>No</td>\n",
       "      <td>12</td>\n",
       "      <td>3</td>\n",
       "      <td>4</td>\n",
       "      <td>80</td>\n",
       "      <td>1</td>\n",
       "      <td>6</td>\n",
       "      <td>3</td>\n",
       "      <td>3</td>\n",
       "      <td>2</td>\n",
       "      <td>2</td>\n",
       "      <td>2</td>\n",
       "      <td>2</td>\n",
       "    </tr>\n",
       "  </tbody>\n",
       "</table>\n",
       "</div>"
      ],
      "text/plain": [
       "   Age Attrition     BusinessTravel  DailyRate              Department  \\\n",
       "0   41       Yes      Travel_Rarely       1102                   Sales   \n",
       "1   49        No  Travel_Frequently        279  Research & Development   \n",
       "2   37       Yes      Travel_Rarely       1373  Research & Development   \n",
       "3   33        No  Travel_Frequently       1392  Research & Development   \n",
       "4   27        No      Travel_Rarely        591  Research & Development   \n",
       "\n",
       "   DistanceFromHome  Education EducationField  EmployeeCount  EmployeeNumber  \\\n",
       "0                 1          2  Life Sciences              1               1   \n",
       "1                 8          1  Life Sciences              1               2   \n",
       "2                 2          2          Other              1               4   \n",
       "3                 3          4  Life Sciences              1               5   \n",
       "4                 2          1        Medical              1               7   \n",
       "\n",
       "   EnvironmentSatisfaction  Gender  HourlyRate  JobInvolvement  JobLevel  \\\n",
       "0                        2  Female          94               3         2   \n",
       "1                        3    Male          61               2         2   \n",
       "2                        4    Male          92               2         1   \n",
       "3                        4  Female          56               3         1   \n",
       "4                        1    Male          40               3         1   \n",
       "\n",
       "                 JobRole  JobSatisfaction MaritalStatus  MonthlyIncome  \\\n",
       "0        Sales Executive                4        Single           5993   \n",
       "1     Research Scientist                2       Married           5130   \n",
       "2  Laboratory Technician                3        Single           2090   \n",
       "3     Research Scientist                3       Married           2909   \n",
       "4  Laboratory Technician                2       Married           3468   \n",
       "\n",
       "   MonthlyRate  NumCompaniesWorked Over18 OverTime  PercentSalaryHike  \\\n",
       "0        19479                   8      Y      Yes                 11   \n",
       "1        24907                   1      Y       No                 23   \n",
       "2         2396                   6      Y      Yes                 15   \n",
       "3        23159                   1      Y      Yes                 11   \n",
       "4        16632                   9      Y       No                 12   \n",
       "\n",
       "   PerformanceRating  RelationshipSatisfaction  StandardHours  \\\n",
       "0                  3                         1             80   \n",
       "1                  4                         4             80   \n",
       "2                  3                         2             80   \n",
       "3                  3                         3             80   \n",
       "4                  3                         4             80   \n",
       "\n",
       "   StockOptionLevel  TotalWorkingYears  TrainingTimesLastYear  \\\n",
       "0                 0                  8                      0   \n",
       "1                 1                 10                      3   \n",
       "2                 0                  7                      3   \n",
       "3                 0                  8                      3   \n",
       "4                 1                  6                      3   \n",
       "\n",
       "   WorkLifeBalance  YearsAtCompany  YearsInCurrentRole  \\\n",
       "0                1               6                   4   \n",
       "1                3              10                   7   \n",
       "2                3               0                   0   \n",
       "3                3               8                   7   \n",
       "4                3               2                   2   \n",
       "\n",
       "   YearsSinceLastPromotion  YearsWithCurrManager  \n",
       "0                        0                     5  \n",
       "1                        1                     7  \n",
       "2                        0                     0  \n",
       "3                        3                     0  \n",
       "4                        2                     2  "
      ]
     },
     "execution_count": 4,
     "metadata": {},
     "output_type": "execute_result"
    }
   ],
   "source": [
    "# load dataset\n",
    "data = pd.read_csv('WA_Fn-UseC_-HR-Employee-Attrition.csv')\n",
    "data.head()"
   ]
  },
  {
   "cell_type": "markdown",
   "metadata": {},
   "source": [
    "### Types of variables\n",
    "\n",
    "Let's go ahead and find out what types of variables there are in this dataset"
   ]
  },
  {
   "cell_type": "code",
   "execution_count": 5,
   "metadata": {},
   "outputs": [
    {
     "data": {
      "text/plain": [
       "Age                          int64\n",
       "Attrition                   object\n",
       "BusinessTravel              object\n",
       "DailyRate                    int64\n",
       "Department                  object\n",
       "DistanceFromHome             int64\n",
       "Education                    int64\n",
       "EducationField              object\n",
       "EmployeeCount                int64\n",
       "EmployeeNumber               int64\n",
       "EnvironmentSatisfaction      int64\n",
       "Gender                      object\n",
       "HourlyRate                   int64\n",
       "JobInvolvement               int64\n",
       "JobLevel                     int64\n",
       "JobRole                     object\n",
       "JobSatisfaction              int64\n",
       "MaritalStatus               object\n",
       "MonthlyIncome                int64\n",
       "MonthlyRate                  int64\n",
       "NumCompaniesWorked           int64\n",
       "Over18                      object\n",
       "OverTime                    object\n",
       "PercentSalaryHike            int64\n",
       "PerformanceRating            int64\n",
       "RelationshipSatisfaction     int64\n",
       "StandardHours                int64\n",
       "StockOptionLevel             int64\n",
       "TotalWorkingYears            int64\n",
       "TrainingTimesLastYear        int64\n",
       "WorkLifeBalance              int64\n",
       "YearsAtCompany               int64\n",
       "YearsInCurrentRole           int64\n",
       "YearsSinceLastPromotion      int64\n",
       "YearsWithCurrManager         int64\n",
       "dtype: object"
      ]
     },
     "execution_count": 5,
     "metadata": {},
     "output_type": "execute_result"
    }
   ],
   "source": [
    "# let's inspect the types of variables in pandas\n",
    "data.dtypes"
   ]
  },
  {
   "cell_type": "markdown",
   "metadata": {},
   "source": [
    "There are a mixture of categorical and numerical variables. Numerical are those of type int and float. Categorical those of type object"
   ]
  },
  {
   "cell_type": "code",
   "execution_count": 6,
   "metadata": {},
   "outputs": [
    {
     "name": "stdout",
     "output_type": "stream",
     "text": [
      "Number of EmployeeNumber labels:  1470\n",
      "Number of employees in the dataset:  1470\n"
     ]
    }
   ],
   "source": [
    "print('Number of EmployeeNumber labels: ', len(data.EmployeeNumber.unique()))\n",
    "print('Number of employees in the dataset: ', len(data))"
   ]
  },
  {
   "cell_type": "markdown",
   "metadata": {},
   "source": [
    "EmployeeNumber is a unique identifier for each of the employees. Thus this is not a variable that we can use."
   ]
  },
  {
   "cell_type": "code",
   "execution_count": 7,
   "metadata": {},
   "outputs": [
    {
     "name": "stdout",
     "output_type": "stream",
     "text": [
      "There are 9 categorical variables\n"
     ]
    }
   ],
   "source": [
    "# find categorical variables\n",
    "categorical = [var for var in data.columns if data[var].dtype == 'O']\n",
    "print('There are {} categorical variables'.format(len(categorical)))"
   ]
  },
  {
   "cell_type": "code",
   "execution_count": 8,
   "metadata": {},
   "outputs": [
    {
     "name": "stdout",
     "output_type": "stream",
     "text": [
      "There are 26 numerical variables\n"
     ]
    }
   ],
   "source": [
    "# find numerical variables\n",
    "numerical = [var for var in data.columns if data[var].dtype != 'O']\n",
    "print('There are {} numerical variables'.format(len(numerical)))"
   ]
  },
  {
   "cell_type": "code",
   "execution_count": 9,
   "metadata": {},
   "outputs": [
    {
     "data": {
      "text/html": [
       "<div>\n",
       "<style scoped>\n",
       "    .dataframe tbody tr th:only-of-type {\n",
       "        vertical-align: middle;\n",
       "    }\n",
       "\n",
       "    .dataframe tbody tr th {\n",
       "        vertical-align: top;\n",
       "    }\n",
       "\n",
       "    .dataframe thead th {\n",
       "        text-align: right;\n",
       "    }\n",
       "</style>\n",
       "<table border=\"1\" class=\"dataframe\">\n",
       "  <thead>\n",
       "    <tr style=\"text-align: right;\">\n",
       "      <th></th>\n",
       "      <th>Attrition</th>\n",
       "      <th>BusinessTravel</th>\n",
       "      <th>Department</th>\n",
       "      <th>EducationField</th>\n",
       "      <th>Gender</th>\n",
       "      <th>JobRole</th>\n",
       "      <th>MaritalStatus</th>\n",
       "      <th>Over18</th>\n",
       "      <th>OverTime</th>\n",
       "    </tr>\n",
       "  </thead>\n",
       "  <tbody>\n",
       "    <tr>\n",
       "      <th>0</th>\n",
       "      <td>Yes</td>\n",
       "      <td>Travel_Rarely</td>\n",
       "      <td>Sales</td>\n",
       "      <td>Life Sciences</td>\n",
       "      <td>Female</td>\n",
       "      <td>Sales Executive</td>\n",
       "      <td>Single</td>\n",
       "      <td>Y</td>\n",
       "      <td>Yes</td>\n",
       "    </tr>\n",
       "    <tr>\n",
       "      <th>1</th>\n",
       "      <td>No</td>\n",
       "      <td>Travel_Frequently</td>\n",
       "      <td>Research &amp; Development</td>\n",
       "      <td>Life Sciences</td>\n",
       "      <td>Male</td>\n",
       "      <td>Research Scientist</td>\n",
       "      <td>Married</td>\n",
       "      <td>Y</td>\n",
       "      <td>No</td>\n",
       "    </tr>\n",
       "    <tr>\n",
       "      <th>2</th>\n",
       "      <td>Yes</td>\n",
       "      <td>Travel_Rarely</td>\n",
       "      <td>Research &amp; Development</td>\n",
       "      <td>Other</td>\n",
       "      <td>Male</td>\n",
       "      <td>Laboratory Technician</td>\n",
       "      <td>Single</td>\n",
       "      <td>Y</td>\n",
       "      <td>Yes</td>\n",
       "    </tr>\n",
       "    <tr>\n",
       "      <th>3</th>\n",
       "      <td>No</td>\n",
       "      <td>Travel_Frequently</td>\n",
       "      <td>Research &amp; Development</td>\n",
       "      <td>Life Sciences</td>\n",
       "      <td>Female</td>\n",
       "      <td>Research Scientist</td>\n",
       "      <td>Married</td>\n",
       "      <td>Y</td>\n",
       "      <td>Yes</td>\n",
       "    </tr>\n",
       "    <tr>\n",
       "      <th>4</th>\n",
       "      <td>No</td>\n",
       "      <td>Travel_Rarely</td>\n",
       "      <td>Research &amp; Development</td>\n",
       "      <td>Medical</td>\n",
       "      <td>Male</td>\n",
       "      <td>Laboratory Technician</td>\n",
       "      <td>Married</td>\n",
       "      <td>Y</td>\n",
       "      <td>No</td>\n",
       "    </tr>\n",
       "  </tbody>\n",
       "</table>\n",
       "</div>"
      ],
      "text/plain": [
       "  Attrition     BusinessTravel              Department EducationField  Gender  \\\n",
       "0       Yes      Travel_Rarely                   Sales  Life Sciences  Female   \n",
       "1        No  Travel_Frequently  Research & Development  Life Sciences    Male   \n",
       "2       Yes      Travel_Rarely  Research & Development          Other    Male   \n",
       "3        No  Travel_Frequently  Research & Development  Life Sciences  Female   \n",
       "4        No      Travel_Rarely  Research & Development        Medical    Male   \n",
       "\n",
       "                 JobRole MaritalStatus Over18 OverTime  \n",
       "0        Sales Executive        Single      Y      Yes  \n",
       "1     Research Scientist       Married      Y       No  \n",
       "2  Laboratory Technician        Single      Y      Yes  \n",
       "3     Research Scientist       Married      Y      Yes  \n",
       "4  Laboratory Technician       Married      Y       No  "
      ]
     },
     "execution_count": 9,
     "metadata": {},
     "output_type": "execute_result"
    }
   ],
   "source": [
    "# view of categorical variables\n",
    "data[categorical].head()"
   ]
  },
  {
   "cell_type": "code",
   "execution_count": 10,
   "metadata": {},
   "outputs": [
    {
     "data": {
      "text/html": [
       "<div>\n",
       "<style scoped>\n",
       "    .dataframe tbody tr th:only-of-type {\n",
       "        vertical-align: middle;\n",
       "    }\n",
       "\n",
       "    .dataframe tbody tr th {\n",
       "        vertical-align: top;\n",
       "    }\n",
       "\n",
       "    .dataframe thead th {\n",
       "        text-align: right;\n",
       "    }\n",
       "</style>\n",
       "<table border=\"1\" class=\"dataframe\">\n",
       "  <thead>\n",
       "    <tr style=\"text-align: right;\">\n",
       "      <th></th>\n",
       "      <th>Age</th>\n",
       "      <th>DailyRate</th>\n",
       "      <th>DistanceFromHome</th>\n",
       "      <th>Education</th>\n",
       "      <th>EmployeeCount</th>\n",
       "      <th>EmployeeNumber</th>\n",
       "      <th>EnvironmentSatisfaction</th>\n",
       "      <th>HourlyRate</th>\n",
       "      <th>JobInvolvement</th>\n",
       "      <th>JobLevel</th>\n",
       "      <th>JobSatisfaction</th>\n",
       "      <th>MonthlyIncome</th>\n",
       "      <th>MonthlyRate</th>\n",
       "      <th>NumCompaniesWorked</th>\n",
       "      <th>PercentSalaryHike</th>\n",
       "      <th>PerformanceRating</th>\n",
       "      <th>RelationshipSatisfaction</th>\n",
       "      <th>StandardHours</th>\n",
       "      <th>StockOptionLevel</th>\n",
       "      <th>TotalWorkingYears</th>\n",
       "      <th>TrainingTimesLastYear</th>\n",
       "      <th>WorkLifeBalance</th>\n",
       "      <th>YearsAtCompany</th>\n",
       "      <th>YearsInCurrentRole</th>\n",
       "      <th>YearsSinceLastPromotion</th>\n",
       "      <th>YearsWithCurrManager</th>\n",
       "    </tr>\n",
       "  </thead>\n",
       "  <tbody>\n",
       "    <tr>\n",
       "      <th>0</th>\n",
       "      <td>41</td>\n",
       "      <td>1102</td>\n",
       "      <td>1</td>\n",
       "      <td>2</td>\n",
       "      <td>1</td>\n",
       "      <td>1</td>\n",
       "      <td>2</td>\n",
       "      <td>94</td>\n",
       "      <td>3</td>\n",
       "      <td>2</td>\n",
       "      <td>4</td>\n",
       "      <td>5993</td>\n",
       "      <td>19479</td>\n",
       "      <td>8</td>\n",
       "      <td>11</td>\n",
       "      <td>3</td>\n",
       "      <td>1</td>\n",
       "      <td>80</td>\n",
       "      <td>0</td>\n",
       "      <td>8</td>\n",
       "      <td>0</td>\n",
       "      <td>1</td>\n",
       "      <td>6</td>\n",
       "      <td>4</td>\n",
       "      <td>0</td>\n",
       "      <td>5</td>\n",
       "    </tr>\n",
       "    <tr>\n",
       "      <th>1</th>\n",
       "      <td>49</td>\n",
       "      <td>279</td>\n",
       "      <td>8</td>\n",
       "      <td>1</td>\n",
       "      <td>1</td>\n",
       "      <td>2</td>\n",
       "      <td>3</td>\n",
       "      <td>61</td>\n",
       "      <td>2</td>\n",
       "      <td>2</td>\n",
       "      <td>2</td>\n",
       "      <td>5130</td>\n",
       "      <td>24907</td>\n",
       "      <td>1</td>\n",
       "      <td>23</td>\n",
       "      <td>4</td>\n",
       "      <td>4</td>\n",
       "      <td>80</td>\n",
       "      <td>1</td>\n",
       "      <td>10</td>\n",
       "      <td>3</td>\n",
       "      <td>3</td>\n",
       "      <td>10</td>\n",
       "      <td>7</td>\n",
       "      <td>1</td>\n",
       "      <td>7</td>\n",
       "    </tr>\n",
       "    <tr>\n",
       "      <th>2</th>\n",
       "      <td>37</td>\n",
       "      <td>1373</td>\n",
       "      <td>2</td>\n",
       "      <td>2</td>\n",
       "      <td>1</td>\n",
       "      <td>4</td>\n",
       "      <td>4</td>\n",
       "      <td>92</td>\n",
       "      <td>2</td>\n",
       "      <td>1</td>\n",
       "      <td>3</td>\n",
       "      <td>2090</td>\n",
       "      <td>2396</td>\n",
       "      <td>6</td>\n",
       "      <td>15</td>\n",
       "      <td>3</td>\n",
       "      <td>2</td>\n",
       "      <td>80</td>\n",
       "      <td>0</td>\n",
       "      <td>7</td>\n",
       "      <td>3</td>\n",
       "      <td>3</td>\n",
       "      <td>0</td>\n",
       "      <td>0</td>\n",
       "      <td>0</td>\n",
       "      <td>0</td>\n",
       "    </tr>\n",
       "    <tr>\n",
       "      <th>3</th>\n",
       "      <td>33</td>\n",
       "      <td>1392</td>\n",
       "      <td>3</td>\n",
       "      <td>4</td>\n",
       "      <td>1</td>\n",
       "      <td>5</td>\n",
       "      <td>4</td>\n",
       "      <td>56</td>\n",
       "      <td>3</td>\n",
       "      <td>1</td>\n",
       "      <td>3</td>\n",
       "      <td>2909</td>\n",
       "      <td>23159</td>\n",
       "      <td>1</td>\n",
       "      <td>11</td>\n",
       "      <td>3</td>\n",
       "      <td>3</td>\n",
       "      <td>80</td>\n",
       "      <td>0</td>\n",
       "      <td>8</td>\n",
       "      <td>3</td>\n",
       "      <td>3</td>\n",
       "      <td>8</td>\n",
       "      <td>7</td>\n",
       "      <td>3</td>\n",
       "      <td>0</td>\n",
       "    </tr>\n",
       "    <tr>\n",
       "      <th>4</th>\n",
       "      <td>27</td>\n",
       "      <td>591</td>\n",
       "      <td>2</td>\n",
       "      <td>1</td>\n",
       "      <td>1</td>\n",
       "      <td>7</td>\n",
       "      <td>1</td>\n",
       "      <td>40</td>\n",
       "      <td>3</td>\n",
       "      <td>1</td>\n",
       "      <td>2</td>\n",
       "      <td>3468</td>\n",
       "      <td>16632</td>\n",
       "      <td>9</td>\n",
       "      <td>12</td>\n",
       "      <td>3</td>\n",
       "      <td>4</td>\n",
       "      <td>80</td>\n",
       "      <td>1</td>\n",
       "      <td>6</td>\n",
       "      <td>3</td>\n",
       "      <td>3</td>\n",
       "      <td>2</td>\n",
       "      <td>2</td>\n",
       "      <td>2</td>\n",
       "      <td>2</td>\n",
       "    </tr>\n",
       "  </tbody>\n",
       "</table>\n",
       "</div>"
      ],
      "text/plain": [
       "   Age  DailyRate  DistanceFromHome  Education  EmployeeCount  EmployeeNumber  \\\n",
       "0   41       1102                 1          2              1               1   \n",
       "1   49        279                 8          1              1               2   \n",
       "2   37       1373                 2          2              1               4   \n",
       "3   33       1392                 3          4              1               5   \n",
       "4   27        591                 2          1              1               7   \n",
       "\n",
       "   EnvironmentSatisfaction  HourlyRate  JobInvolvement  JobLevel  \\\n",
       "0                        2          94               3         2   \n",
       "1                        3          61               2         2   \n",
       "2                        4          92               2         1   \n",
       "3                        4          56               3         1   \n",
       "4                        1          40               3         1   \n",
       "\n",
       "   JobSatisfaction  MonthlyIncome  MonthlyRate  NumCompaniesWorked  \\\n",
       "0                4           5993        19479                   8   \n",
       "1                2           5130        24907                   1   \n",
       "2                3           2090         2396                   6   \n",
       "3                3           2909        23159                   1   \n",
       "4                2           3468        16632                   9   \n",
       "\n",
       "   PercentSalaryHike  PerformanceRating  RelationshipSatisfaction  \\\n",
       "0                 11                  3                         1   \n",
       "1                 23                  4                         4   \n",
       "2                 15                  3                         2   \n",
       "3                 11                  3                         3   \n",
       "4                 12                  3                         4   \n",
       "\n",
       "   StandardHours  StockOptionLevel  TotalWorkingYears  TrainingTimesLastYear  \\\n",
       "0             80                 0                  8                      0   \n",
       "1             80                 1                 10                      3   \n",
       "2             80                 0                  7                      3   \n",
       "3             80                 0                  8                      3   \n",
       "4             80                 1                  6                      3   \n",
       "\n",
       "   WorkLifeBalance  YearsAtCompany  YearsInCurrentRole  \\\n",
       "0                1               6                   4   \n",
       "1                3              10                   7   \n",
       "2                3               0                   0   \n",
       "3                3               8                   7   \n",
       "4                3               2                   2   \n",
       "\n",
       "   YearsSinceLastPromotion  YearsWithCurrManager  \n",
       "0                        0                     5  \n",
       "1                        1                     7  \n",
       "2                        0                     0  \n",
       "3                        3                     0  \n",
       "4                        2                     2  "
      ]
     },
     "execution_count": 10,
     "metadata": {},
     "output_type": "execute_result"
    }
   ],
   "source": [
    "# view of numerical variables\n",
    "data[numerical].head()"
   ]
  },
  {
   "cell_type": "markdown",
   "metadata": {},
   "source": [
    "- 5 continuos variables: Age, DailyRate, HourlyRate, MonthlyIncome, MonthlyRate\n",
    "- 1 Id variable: EmployeeNumber (it is a label for each of the employees)\n",
    "- 18 discrete variables: Rest all of them "
   ]
  },
  {
   "cell_type": "markdown",
   "metadata": {},
   "source": [
    "### Types of problems within the variables\n",
    "\n",
    "#### Missing values"
   ]
  },
  {
   "cell_type": "code",
   "execution_count": 11,
   "metadata": {},
   "outputs": [
    {
     "data": {
      "text/plain": [
       "Age                         0.0\n",
       "Attrition                   0.0\n",
       "BusinessTravel              0.0\n",
       "DailyRate                   0.0\n",
       "Department                  0.0\n",
       "DistanceFromHome            0.0\n",
       "Education                   0.0\n",
       "EducationField              0.0\n",
       "EmployeeCount               0.0\n",
       "EmployeeNumber              0.0\n",
       "EnvironmentSatisfaction     0.0\n",
       "Gender                      0.0\n",
       "HourlyRate                  0.0\n",
       "JobInvolvement              0.0\n",
       "JobLevel                    0.0\n",
       "JobRole                     0.0\n",
       "JobSatisfaction             0.0\n",
       "MaritalStatus               0.0\n",
       "MonthlyIncome               0.0\n",
       "MonthlyRate                 0.0\n",
       "NumCompaniesWorked          0.0\n",
       "Over18                      0.0\n",
       "OverTime                    0.0\n",
       "PercentSalaryHike           0.0\n",
       "PerformanceRating           0.0\n",
       "RelationshipSatisfaction    0.0\n",
       "StandardHours               0.0\n",
       "StockOptionLevel            0.0\n",
       "TotalWorkingYears           0.0\n",
       "TrainingTimesLastYear       0.0\n",
       "WorkLifeBalance             0.0\n",
       "YearsAtCompany              0.0\n",
       "YearsInCurrentRole          0.0\n",
       "YearsSinceLastPromotion     0.0\n",
       "YearsWithCurrManager        0.0\n",
       "dtype: float64"
      ]
     },
     "execution_count": 11,
     "metadata": {},
     "output_type": "execute_result"
    }
   ],
   "source": [
    "# let's visualize the percentage of missing values\n",
    "data.isnull().mean()"
   ]
  },
  {
   "cell_type": "code",
   "execution_count": 12,
   "metadata": {},
   "outputs": [
    {
     "name": "stdout",
     "output_type": "stream",
     "text": [
      "EmployeeCount  values:  [1]\n",
      "Over18  values:  ['Y']\n",
      "StandardHours  values:  [80]\n"
     ]
    }
   ],
   "source": [
    "# let's visualize some unnecessary fields clearly visible from the raw data in input csv file\n",
    "for var in ['EmployeeCount', 'Over18', 'StandardHours']:\n",
    "    print(var, ' values: ', data[var].unique())"
   ]
  },
  {
   "cell_type": "markdown",
   "metadata": {},
   "source": [
    "Looking at the single unique label of the above fields, it's clear that they're not contributing anything towards the final outcome and hence can be dropped."
   ]
  },
  {
   "cell_type": "code",
   "execution_count": 13,
   "metadata": {},
   "outputs": [],
   "source": [
    "# drop unnecessary fields\n",
    "for var in ['EmployeeCount', 'Over18', 'StandardHours']:\n",
    "    data.drop(labels = var, inplace = True, axis = 1)"
   ]
  },
  {
   "cell_type": "code",
   "execution_count": 14,
   "metadata": {},
   "outputs": [],
   "source": [
    "# function returning columns with correlation higher than threshold\n",
    "def correlation(dataset, threshold):\n",
    "    col_corr = set() # set of high correlation columns\n",
    "    corr_matrix = dataset.corr()\n",
    "    for i in range(len(corr_matrix.columns)):\n",
    "        for j in range(i):\n",
    "            if abs(corr_matrix.iloc[i, j]) >= threshold:\n",
    "                print(corr_matrix.columns[i], \" - \", corr_matrix.columns[j], \" : \", corr_matrix.iloc[i, j])\n",
    "                colname = corr_matrix.columns[i]\n",
    "                col_corr.add(colname)\n",
    "    print(col_corr)\n",
    "    return col_corr"
   ]
  },
  {
   "cell_type": "code",
   "execution_count": 15,
   "metadata": {},
   "outputs": [
    {
     "name": "stdout",
     "output_type": "stream",
     "text": [
      "MonthlyIncome  -  JobLevel  :  0.950299913479854\n",
      "PerformanceRating  -  PercentSalaryHike  :  0.7735499964012668\n",
      "TotalWorkingYears  -  JobLevel  :  0.7822078045362802\n",
      "TotalWorkingYears  -  MonthlyIncome  :  0.7728932462543548\n",
      "YearsInCurrentRole  -  YearsAtCompany  :  0.7587537366134616\n",
      "YearsWithCurrManager  -  YearsAtCompany  :  0.7692124251006991\n",
      "YearsWithCurrManager  -  YearsInCurrentRole  :  0.7143647616385903\n",
      "{'MonthlyIncome', 'PerformanceRating', 'YearsWithCurrManager', 'TotalWorkingYears', 'YearsInCurrentRole'}\n"
     ]
    },
    {
     "data": {
      "text/plain": [
       "{'MonthlyIncome',\n",
       " 'PerformanceRating',\n",
       " 'TotalWorkingYears',\n",
       " 'YearsInCurrentRole',\n",
       " 'YearsWithCurrManager'}"
      ]
     },
     "execution_count": 15,
     "metadata": {},
     "output_type": "execute_result"
    }
   ],
   "source": [
    "correlation(data, 0.7)"
   ]
  },
  {
   "cell_type": "code",
   "execution_count": 16,
   "metadata": {},
   "outputs": [],
   "source": [
    "# drop highly correlated fields\n",
    "for var in ['JobLevel', 'TotalWorkingYears', 'YearsInCurrentRole', 'YearsWithCurrManager']:\n",
    "    data.drop(labels = var, inplace = True, axis = 1)"
   ]
  },
  {
   "cell_type": "markdown",
   "metadata": {},
   "source": [
    "None of the variables contain any missing data\n",
    "\n",
    "#### Outliers"
   ]
  },
  {
   "cell_type": "code",
   "execution_count": 17,
   "metadata": {},
   "outputs": [
    {
     "data": {
      "text/plain": [
       "['Age',\n",
       " 'DailyRate',\n",
       " 'DistanceFromHome',\n",
       " 'Education',\n",
       " 'EnvironmentSatisfaction',\n",
       " 'HourlyRate',\n",
       " 'JobInvolvement',\n",
       " 'JobSatisfaction',\n",
       " 'MonthlyIncome',\n",
       " 'MonthlyRate',\n",
       " 'NumCompaniesWorked',\n",
       " 'PercentSalaryHike',\n",
       " 'PerformanceRating',\n",
       " 'RelationshipSatisfaction',\n",
       " 'StockOptionLevel',\n",
       " 'TrainingTimesLastYear',\n",
       " 'WorkLifeBalance',\n",
       " 'YearsAtCompany',\n",
       " 'YearsSinceLastPromotion']"
      ]
     },
     "execution_count": 17,
     "metadata": {},
     "output_type": "execute_result"
    }
   ],
   "source": [
    "numerical = [var for var in data.columns if data[var].dtype != 'O' and var not in['EmployeeNumber']]\n",
    "numerical"
   ]
  },
  {
   "cell_type": "code",
   "execution_count": 18,
   "metadata": {},
   "outputs": [
    {
     "data": {
      "text/plain": [
       "Text(0, 0.5, 'MonthlyRate')"
      ]
     },
     "execution_count": 18,
     "metadata": {},
     "output_type": "execute_result"
    },
    {
     "data": {
      "image/png": "[encoded data removed]",
      "text/plain": [
       "<Figure size 1440x576 with 5 Axes>"
      ]
     },
     "metadata": {
      "needs_background": "light"
     },
     "output_type": "display_data"
    }
   ],
   "source": [
    "# let's make boxplots to visualize outliers in the continouos variables\n",
    "# Age, DailyRate, HourlyRate, MonthlyIncome, MonthlyRate\n",
    "\n",
    "plt.figure(figsize = (20, 8))\n",
    "plt.subplot(1, 5, 1)\n",
    "fig = data.boxplot(column = 'Age')\n",
    "fig.set_title('')\n",
    "fig.set_ylabel('Age')\n",
    "\n",
    "plt.subplot(1, 5, 2)\n",
    "fig = data.boxplot(column = 'DailyRate')\n",
    "fig.set_title('')\n",
    "fig.set_ylabel('DailyRate')\n",
    "\n",
    "plt.subplot(1, 5, 3)\n",
    "fig = data.boxplot(column = 'HourlyRate')\n",
    "fig.set_title('')\n",
    "fig.set_ylabel('HourlyRate')\n",
    "\n",
    "plt.subplot(1, 5, 4)\n",
    "fig = data.boxplot(column = 'MonthlyIncome')\n",
    "fig.set_title('')\n",
    "fig.set_ylabel('MonthlyIncome')\n",
    "\n",
    "plt.subplot(1, 5, 5)\n",
    "fig = data.boxplot(column = 'MonthlyRate')\n",
    "fig.set_title('')\n",
    "fig.set_ylabel('MonthlyRate')"
   ]
  },
  {
   "cell_type": "markdown",
   "metadata": {},
   "source": [
    "Only MonthlyIncome contain outliers. Let's find which of its values are the outliers"
   ]
  },
  {
   "cell_type": "code",
   "execution_count": 19,
   "metadata": {},
   "outputs": [
    {
     "data": {
      "text/plain": [
       "Text(0.5, 0, 'MonthlyIncome')"
      ]
     },
     "execution_count": 19,
     "metadata": {},
     "output_type": "execute_result"
    },
    {
     "data": {
      "image/png": "[encoded data removed]",
      "text/plain": [
       "<Figure size 864x432 with 1 Axes>"
      ]
     },
     "metadata": {
      "needs_background": "light"
     },
     "output_type": "display_data"
    }
   ],
   "source": [
    "# first we plot the distribution to find out it is Gaussian or skewed.\n",
    "# Depending on the distribution, we will use the normal assumption or the interquantile\n",
    "# range to find outliers\n",
    "\n",
    "plt.figure(figsize = (12, 6))\n",
    "plt.subplot(1, 1, 1)\n",
    "fig = data.MonthlyIncome.hist(bins = 20)\n",
    "fig.set_ylabel('Number of employees')\n",
    "fig.set_xlabel('MonthlyIncome')"
   ]
  },
  {
   "cell_type": "markdown",
   "metadata": {},
   "source": [
    "MonthlyIncome seems a little skewed, so I will use the interquantile range or discretisation for it\n",
    "\n",
    "#### Outliers in discrete variables\n",
    "\n",
    "Let's calculate the percentage of employees for each of the values inside the discrete variables. I will call outliers, those values that are present in less than 1% of the employees. This is exactly the same as finding rare labels in categorical variables. Discrete variables, in essence can be pre-processed / engineered as if they were categorical."
   ]
  },
  {
   "cell_type": "code",
   "execution_count": 20,
   "metadata": {},
   "outputs": [
    {
     "data": {
      "text/plain": [
       "['DistanceFromHome',\n",
       " 'Education',\n",
       " 'EnvironmentSatisfaction',\n",
       " 'JobInvolvement',\n",
       " 'JobSatisfaction',\n",
       " 'NumCompaniesWorked',\n",
       " 'PercentSalaryHike',\n",
       " 'PerformanceRating',\n",
       " 'RelationshipSatisfaction',\n",
       " 'StockOptionLevel',\n",
       " 'TrainingTimesLastYear',\n",
       " 'WorkLifeBalance',\n",
       " 'YearsAtCompany',\n",
       " 'YearsSinceLastPromotion']"
      ]
     },
     "execution_count": 20,
     "metadata": {},
     "output_type": "execute_result"
    }
   ],
   "source": [
    "# get the list of discrete variables\n",
    "discrete = [var for var in numerical if var not in['Age', 'DailyRate', 'HourlyRate', 'MonthlyIncome', 'MonthlyRate']]\n",
    "discrete"
   ]
  },
  {
   "cell_type": "code",
   "execution_count": 21,
   "metadata": {},
   "outputs": [
    {
     "name": "stdout",
     "output_type": "stream",
     "text": [
      "2     0.143537\n",
      "1     0.141497\n",
      "10    0.058503\n",
      "9     0.057823\n",
      "3     0.057143\n",
      "7     0.057143\n",
      "8     0.054422\n",
      "5     0.044218\n",
      "4     0.043537\n",
      "6     0.040136\n",
      "16    0.021769\n",
      "11    0.019728\n",
      "24    0.019048\n",
      "29    0.018367\n",
      "23    0.018367\n",
      "18    0.017687\n",
      "15    0.017687\n",
      "20    0.017007\n",
      "25    0.017007\n",
      "26    0.017007\n",
      "28    0.015646\n",
      "19    0.014966\n",
      "14    0.014286\n",
      "12    0.013605\n",
      "17    0.013605\n",
      "13    0.012925\n",
      "22    0.012925\n",
      "21    0.012245\n",
      "27    0.008163\n",
      "Name: DistanceFromHome, dtype: float64\n",
      "\n",
      "3    0.389116\n",
      "4    0.270748\n",
      "2    0.191837\n",
      "1    0.115646\n",
      "5    0.032653\n",
      "Name: Education, dtype: float64\n",
      "\n",
      "3    0.308163\n",
      "4    0.303401\n",
      "2    0.195238\n",
      "1    0.193197\n",
      "Name: EnvironmentSatisfaction, dtype: float64\n",
      "\n",
      "3    0.590476\n",
      "2    0.255102\n",
      "4    0.097959\n",
      "1    0.056463\n",
      "Name: JobInvolvement, dtype: float64\n",
      "\n",
      "4    0.312245\n",
      "3    0.300680\n",
      "1    0.196599\n",
      "2    0.190476\n",
      "Name: JobSatisfaction, dtype: float64\n",
      "\n",
      "1    0.354422\n",
      "0    0.134014\n",
      "3    0.108163\n",
      "2    0.099320\n",
      "4    0.094558\n",
      "7    0.050340\n",
      "6    0.047619\n",
      "5    0.042857\n",
      "9    0.035374\n",
      "8    0.033333\n",
      "Name: NumCompaniesWorked, dtype: float64\n",
      "\n",
      "11    0.142857\n",
      "13    0.142177\n",
      "14    0.136735\n",
      "12    0.134694\n",
      "15    0.068707\n",
      "18    0.060544\n",
      "17    0.055782\n",
      "16    0.053061\n",
      "19    0.051701\n",
      "22    0.038095\n",
      "20    0.037415\n",
      "21    0.032653\n",
      "23    0.019048\n",
      "24    0.014286\n",
      "25    0.012245\n",
      "Name: PercentSalaryHike, dtype: float64\n",
      "\n",
      "3    0.846259\n",
      "4    0.153741\n",
      "Name: PerformanceRating, dtype: float64\n",
      "\n",
      "3    0.312245\n",
      "4    0.293878\n",
      "2    0.206122\n",
      "1    0.187755\n",
      "Name: RelationshipSatisfaction, dtype: float64\n",
      "\n",
      "0    0.429252\n",
      "1    0.405442\n",
      "2    0.107483\n",
      "3    0.057823\n",
      "Name: StockOptionLevel, dtype: float64\n",
      "\n",
      "2    0.372109\n",
      "3    0.334014\n",
      "4    0.083673\n",
      "5    0.080952\n",
      "1    0.048299\n",
      "6    0.044218\n",
      "0    0.036735\n",
      "Name: TrainingTimesLastYear, dtype: float64\n",
      "\n",
      "3    0.607483\n",
      "2    0.234014\n",
      "4    0.104082\n",
      "1    0.054422\n",
      "Name: WorkLifeBalance, dtype: float64\n",
      "\n",
      "5     0.133333\n",
      "1     0.116327\n",
      "3     0.087075\n",
      "2     0.086395\n",
      "10    0.081633\n",
      "4     0.074830\n",
      "7     0.061224\n",
      "9     0.055782\n",
      "8     0.054422\n",
      "6     0.051701\n",
      "0     0.029932\n",
      "11    0.021769\n",
      "20    0.018367\n",
      "13    0.016327\n",
      "15    0.013605\n",
      "14    0.012245\n",
      "22    0.010204\n",
      "12    0.009524\n",
      "21    0.009524\n",
      "18    0.008844\n",
      "16    0.008163\n",
      "19    0.007483\n",
      "17    0.006122\n",
      "24    0.004082\n",
      "33    0.003401\n",
      "25    0.002721\n",
      "26    0.002721\n",
      "31    0.002041\n",
      "32    0.002041\n",
      "36    0.001361\n",
      "27    0.001361\n",
      "29    0.001361\n",
      "23    0.001361\n",
      "30    0.000680\n",
      "34    0.000680\n",
      "37    0.000680\n",
      "40    0.000680\n",
      "Name: YearsAtCompany, dtype: float64\n",
      "\n",
      "0     0.395238\n",
      "1     0.242857\n",
      "2     0.108163\n",
      "7     0.051701\n",
      "4     0.041497\n",
      "3     0.035374\n",
      "5     0.030612\n",
      "6     0.021769\n",
      "11    0.016327\n",
      "8     0.012245\n",
      "9     0.011565\n",
      "15    0.008844\n",
      "13    0.006803\n",
      "12    0.006803\n",
      "14    0.006122\n",
      "10    0.004082\n",
      "Name: YearsSinceLastPromotion, dtype: float64\n",
      "\n"
     ]
    }
   ],
   "source": [
    "# outliers in discrete variables\n",
    "for var in discrete:\n",
    "    print(data[var].value_counts() / np.float(len(data)))\n",
    "    print()"
   ]
  },
  {
   "cell_type": "markdown",
   "metadata": {},
   "source": [
    "**DistanceFromHome**\n",
    "We can see that values > 26 are rare (present in less than 1% of employees). Thus I will cap this variable at 26 (top-coding).\n",
    "\n",
    "**YearsAtCompany**\n",
    "Values > 20 seems rare. So, I'll cap this variable at 20.\n",
    "\n",
    "**YearsSinceLastPromotion**\n",
    "Values > 11 seems rare. So, I'll cap this variable at 11."
   ]
  },
  {
   "cell_type": "markdown",
   "metadata": {},
   "source": [
    "### Separate train and test set"
   ]
  },
  {
   "cell_type": "code",
   "execution_count": 22,
   "metadata": {},
   "outputs": [],
   "source": [
    "# enode labels into numerical values 0 and 1 \n",
    "le = LabelEncoder()\n",
    "le.fit(['No', 'Yes'])\n",
    "labels = le.transform(data['Attrition'])\n",
    "data['Attrition'] = labels"
   ]
  },
  {
   "cell_type": "code",
   "execution_count": 23,
   "metadata": {},
   "outputs": [
    {
     "data": {
      "text/plain": [
       "((1176, 28), (294, 28))"
      ]
     },
     "execution_count": 23,
     "metadata": {},
     "output_type": "execute_result"
    }
   ],
   "source": [
    "# let's separate our dataset into training and test sets\n",
    "X_train, X_test, y_train, y_test = train_test_split(data, labels, test_size = 0.2, random_state = 18)\n",
    "X_train.shape, X_test.shape"
   ]
  },
  {
   "cell_type": "code",
   "execution_count": 24,
   "metadata": {},
   "outputs": [
    {
     "data": {
      "text/plain": [
       "['BusinessTravel',\n",
       " 'Department',\n",
       " 'EducationField',\n",
       " 'Gender',\n",
       " 'JobRole',\n",
       " 'MaritalStatus',\n",
       " 'OverTime']"
      ]
     },
     "execution_count": 24,
     "metadata": {},
     "output_type": "execute_result"
    }
   ],
   "source": [
    "categorical = [var for var in data.columns if data[var].dtype == 'O' and var not in ['Attrition']]\n",
    "categorical"
   ]
  },
  {
   "cell_type": "code",
   "execution_count": 25,
   "metadata": {},
   "outputs": [
    {
     "data": {
      "text/plain": [
       "['Age',\n",
       " 'DailyRate',\n",
       " 'DistanceFromHome',\n",
       " 'Education',\n",
       " 'EnvironmentSatisfaction',\n",
       " 'HourlyRate',\n",
       " 'JobInvolvement',\n",
       " 'JobSatisfaction',\n",
       " 'MonthlyIncome',\n",
       " 'MonthlyRate',\n",
       " 'NumCompaniesWorked',\n",
       " 'PercentSalaryHike',\n",
       " 'PerformanceRating',\n",
       " 'RelationshipSatisfaction',\n",
       " 'StockOptionLevel',\n",
       " 'TrainingTimesLastYear',\n",
       " 'WorkLifeBalance',\n",
       " 'YearsAtCompany',\n",
       " 'YearsSinceLastPromotion']"
      ]
     },
     "execution_count": 25,
     "metadata": {},
     "output_type": "execute_result"
    }
   ],
   "source": [
    "numerical"
   ]
  },
  {
   "cell_type": "markdown",
   "metadata": {},
   "source": [
    "### Outliers in Numerical variables\n",
    "\n",
    "As I was analysing the outliers at the beginning of the notebook, I was taking a note on the preprocecssing that I thought would be more convenient for each one of them. The notes are summarized here:\n",
    "\n",
    "- MonthlyIncome: equal frequency binning\n",
    "- DistanceFromHome: top-coding(26)\n",
    "- YearsAtCompany: top-coding(20)\n",
    "- YearsSinceLastPromotion: top-coding(11)"
   ]
  },
  {
   "cell_type": "code",
   "execution_count": 26,
   "metadata": {},
   "outputs": [],
   "source": [
    "def top_code(df, variable, top):\n",
    "    return np.where(df[variable] > top, top, df[variable])\n",
    "\n",
    "for df in [X_train, X_test]:\n",
    "    df['DistanceFromHome'] = top_code(df, 'DistanceFromHome', 26)\n",
    "    df['YearsAtCompany'] = top_code(df, 'YearsAtCompany', 20)\n",
    "    df['YearsSinceLastPromotion'] = top_code(df, 'YearsSinceLastPromotion', 11)"
   ]
  },
  {
   "cell_type": "code",
   "execution_count": 27,
   "metadata": {},
   "outputs": [
    {
     "name": "stdout",
     "output_type": "stream",
     "text": [
      "DistanceFromHome  max value:  26\n",
      "DistanceFromHome  max value:  26\n",
      "YearsAtCompany  max value:  20\n",
      "YearsAtCompany  max value:  20\n",
      "YearsSinceLastPromotion  max value:  11\n",
      "YearsSinceLastPromotion  max value:  11\n"
     ]
    }
   ],
   "source": [
    "# let's check that it worked\n",
    "for var in ['DistanceFromHome', 'YearsAtCompany', 'YearsSinceLastPromotion']:\n",
    "    print(var, ' max value: ', X_train[var].max())\n",
    "    print(var, ' max value: ', X_test[var].max())"
   ]
  },
  {
   "cell_type": "code",
   "execution_count": 28,
   "metadata": {},
   "outputs": [],
   "source": [
    "# find quantiles and discretise train set\n",
    "X_train['MonthlyIncome'], bins = pd.qcut(x = X_train['MonthlyIncome'], q = 8, retbins = True, precision = 3, duplicates = 'raise')\n",
    "X_test['MonthlyIncome'] = pd.cut(x = X_test['MonthlyIncome'], bins = bins, include_lowest = True)"
   ]
  },
  {
   "cell_type": "code",
   "execution_count": 29,
   "metadata": {},
   "outputs": [
    {
     "data": {
      "text/plain": [
       "<matplotlib.axes._subplots.AxesSubplot at 0x21fce6c06d8>"
      ]
     },
     "execution_count": 29,
     "metadata": {},
     "output_type": "execute_result"
    },
    {
     "data": {
      "image/png": "[encoded data removed]",
      "text/plain": [
       "<Figure size 864x432 with 1 Axes>"
      ]
     },
     "metadata": {
      "needs_background": "light"
     },
     "output_type": "display_data"
    }
   ],
   "source": [
    "t1 = X_train.groupby(['MonthlyIncome'])['MonthlyIncome'].count() / np.float(len(X_train))\n",
    "t2 = X_test.groupby(['MonthlyIncome'])['MonthlyIncome'].count() / np.float(len(X_test))\n",
    "\n",
    "temp = pd.concat([t1, t2], axis = 1)\n",
    "temp.columns = ['train', 'test']\n",
    "temp.plot.bar(figsize=(12, 6))"
   ]
  },
  {
   "cell_type": "markdown",
   "metadata": {},
   "source": [
    "### Engineering rare labels in categorical variables"
   ]
  },
  {
   "cell_type": "code",
   "execution_count": 30,
   "metadata": {},
   "outputs": [
    {
     "name": "stdout",
     "output_type": "stream",
     "text": [
      "BusinessTravel Travel_Rarely        0.704932\n",
      "Travel_Frequently    0.188776\n",
      "Non-Travel           0.106293\n",
      "Name: BusinessTravel, dtype: float64\n",
      "\n",
      "Department Research & Development    0.664966\n",
      "Sales                     0.289966\n",
      "Human Resources           0.045068\n",
      "Name: Department, dtype: float64\n",
      "\n",
      "EducationField Life Sciences       0.405612\n",
      "Medical             0.321429\n",
      "Marketing           0.103741\n",
      "Technical Degree    0.091837\n",
      "Other               0.058673\n",
      "Human Resources     0.018707\n",
      "Name: EducationField, dtype: float64\n",
      "\n",
      "Gender Male      0.610544\n",
      "Female    0.389456\n",
      "Name: Gender, dtype: float64\n",
      "\n",
      "JobRole Sales Executive              0.207483\n",
      "Research Scientist           0.199830\n",
      "Laboratory Technician        0.183673\n",
      "Manufacturing Director       0.097789\n",
      "Healthcare Representative    0.090986\n",
      "Manager                      0.071429\n",
      "Sales Representative         0.056973\n",
      "Research Director            0.053571\n",
      "Human Resources              0.038265\n",
      "Name: JobRole, dtype: float64\n",
      "\n",
      "MaritalStatus Married     0.463435\n",
      "Single      0.307823\n",
      "Divorced    0.228741\n",
      "Name: MaritalStatus, dtype: float64\n",
      "\n",
      "OverTime No     0.712585\n",
      "Yes    0.287415\n",
      "Name: OverTime, dtype: float64\n",
      "\n"
     ]
    }
   ],
   "source": [
    "# find unfrequent labels in categorical variables\n",
    "for var in categorical:\n",
    "    print(var, X_train[var].value_counts() / np.float(len(X_train)))\n",
    "    print()"
   ]
  },
  {
   "cell_type": "markdown",
   "metadata": {},
   "source": [
    "All of the categorical variables seems nicely distributed, as none of the lablels have a distribution of less than 1%, so we'll leave these fields alone."
   ]
  },
  {
   "cell_type": "markdown",
   "metadata": {},
   "source": [
    "### Encode categorical variables"
   ]
  },
  {
   "cell_type": "markdown",
   "metadata": {},
   "source": [
    "#### Number of labels: cardinality"
   ]
  },
  {
   "cell_type": "code",
   "execution_count": 31,
   "metadata": {
    "scrolled": true
   },
   "outputs": [
    {
     "name": "stdout",
     "output_type": "stream",
     "text": [
      "BusinessTravel  contains  3  labels\n",
      "Department  contains  3  labels\n",
      "EducationField  contains  6  labels\n",
      "Gender  contains  2  labels\n",
      "JobRole  contains  9  labels\n",
      "MaritalStatus  contains  3  labels\n",
      "OverTime  contains  2  labels\n"
     ]
    }
   ],
   "source": [
    "for var in categorical:\n",
    "    print(var, ' contains ', len(data[var].unique()), ' labels')"
   ]
  },
  {
   "cell_type": "markdown",
   "metadata": {},
   "source": [
    "- Gender and OverTime: one hot encoding\n",
    "- Remaining variables: replace by risk probability"
   ]
  },
  {
   "cell_type": "code",
   "execution_count": 32,
   "metadata": {},
   "outputs": [],
   "source": [
    "for df in [X_train, X_test]:\n",
    "    df['Gender'] = pd.get_dummies(df.Gender, drop_first = True)\n",
    "    df['OverTime'] = pd.get_dummies(df.OverTime, drop_first = True)"
   ]
  },
  {
   "cell_type": "code",
   "execution_count": 33,
   "metadata": {},
   "outputs": [],
   "source": [
    "def encode_categorical_variables(var, target):\n",
    "    # make label to risk dictionary\n",
    "    ordered_labels = X_train.groupby([var])[target].mean().to_dict()\n",
    "    \n",
    "    # encode variables\n",
    "    X_train[var] = X_train[var].map(ordered_labels)\n",
    "    X_test[var] = X_test[var].map(ordered_labels)\n",
    "\n",
    "# encode labels in categorical vars\n",
    "for var in categorical:\n",
    "    encode_categorical_variables(var, 'Attrition')"
   ]
  },
  {
   "cell_type": "code",
   "execution_count": 34,
   "metadata": {},
   "outputs": [],
   "source": [
    "# parse discretised variable to object before encoding\n",
    "for df in [X_train, X_test]:\n",
    "    df.MonthlyIncome = df.MonthlyIncome.astype('O')"
   ]
  },
  {
   "cell_type": "code",
   "execution_count": 35,
   "metadata": {},
   "outputs": [],
   "source": [
    "# encode labels\n",
    "encode_categorical_variables('MonthlyIncome', 'Attrition')"
   ]
  },
  {
   "cell_type": "code",
   "execution_count": 36,
   "metadata": {},
   "outputs": [
    {
     "data": {
      "text/html": [
       "<div>\n",
       "<style scoped>\n",
       "    .dataframe tbody tr th:only-of-type {\n",
       "        vertical-align: middle;\n",
       "    }\n",
       "\n",
       "    .dataframe tbody tr th {\n",
       "        vertical-align: top;\n",
       "    }\n",
       "\n",
       "    .dataframe thead th {\n",
       "        text-align: right;\n",
       "    }\n",
       "</style>\n",
       "<table border=\"1\" class=\"dataframe\">\n",
       "  <thead>\n",
       "    <tr style=\"text-align: right;\">\n",
       "      <th></th>\n",
       "      <th>Age</th>\n",
       "      <th>Attrition</th>\n",
       "      <th>BusinessTravel</th>\n",
       "      <th>DailyRate</th>\n",
       "      <th>Department</th>\n",
       "      <th>DistanceFromHome</th>\n",
       "      <th>Education</th>\n",
       "      <th>EducationField</th>\n",
       "      <th>EmployeeNumber</th>\n",
       "      <th>EnvironmentSatisfaction</th>\n",
       "      <th>Gender</th>\n",
       "      <th>HourlyRate</th>\n",
       "      <th>JobInvolvement</th>\n",
       "      <th>JobRole</th>\n",
       "      <th>JobSatisfaction</th>\n",
       "      <th>MaritalStatus</th>\n",
       "      <th>MonthlyIncome</th>\n",
       "      <th>MonthlyRate</th>\n",
       "      <th>NumCompaniesWorked</th>\n",
       "      <th>OverTime</th>\n",
       "      <th>PercentSalaryHike</th>\n",
       "      <th>PerformanceRating</th>\n",
       "      <th>RelationshipSatisfaction</th>\n",
       "      <th>StockOptionLevel</th>\n",
       "      <th>TrainingTimesLastYear</th>\n",
       "      <th>WorkLifeBalance</th>\n",
       "      <th>YearsAtCompany</th>\n",
       "      <th>YearsSinceLastPromotion</th>\n",
       "    </tr>\n",
       "  </thead>\n",
       "  <tbody>\n",
       "    <tr>\n",
       "      <th>473</th>\n",
       "      <td>49</td>\n",
       "      <td>0</td>\n",
       "      <td>0.154403</td>\n",
       "      <td>1245</td>\n",
       "      <td>0.132992</td>\n",
       "      <td>18</td>\n",
       "      <td>4</td>\n",
       "      <td>0.148847</td>\n",
       "      <td>638</td>\n",
       "      <td>4</td>\n",
       "      <td>0.169916</td>\n",
       "      <td>58</td>\n",
       "      <td>2</td>\n",
       "      <td>0.015873</td>\n",
       "      <td>3</td>\n",
       "      <td>0.092937</td>\n",
       "      <td>0.040816</td>\n",
       "      <td>2125</td>\n",
       "      <td>1</td>\n",
       "      <td>0.301775</td>\n",
       "      <td>17</td>\n",
       "      <td>3</td>\n",
       "      <td>3</td>\n",
       "      <td>1</td>\n",
       "      <td>5</td>\n",
       "      <td>3</td>\n",
       "      <td>20</td>\n",
       "      <td>0</td>\n",
       "    </tr>\n",
       "    <tr>\n",
       "      <th>1453</th>\n",
       "      <td>36</td>\n",
       "      <td>0</td>\n",
       "      <td>0.154403</td>\n",
       "      <td>1120</td>\n",
       "      <td>0.225806</td>\n",
       "      <td>11</td>\n",
       "      <td>4</td>\n",
       "      <td>0.229508</td>\n",
       "      <td>2045</td>\n",
       "      <td>2</td>\n",
       "      <td>0.150655</td>\n",
       "      <td>100</td>\n",
       "      <td>2</td>\n",
       "      <td>0.200820</td>\n",
       "      <td>4</td>\n",
       "      <td>0.135780</td>\n",
       "      <td>0.088435</td>\n",
       "      <td>14369</td>\n",
       "      <td>4</td>\n",
       "      <td>0.106205</td>\n",
       "      <td>13</td>\n",
       "      <td>3</td>\n",
       "      <td>1</td>\n",
       "      <td>1</td>\n",
       "      <td>2</td>\n",
       "      <td>2</td>\n",
       "      <td>6</td>\n",
       "      <td>0</td>\n",
       "    </tr>\n",
       "    <tr>\n",
       "      <th>743</th>\n",
       "      <td>59</td>\n",
       "      <td>0</td>\n",
       "      <td>0.154403</td>\n",
       "      <td>715</td>\n",
       "      <td>0.132992</td>\n",
       "      <td>2</td>\n",
       "      <td>3</td>\n",
       "      <td>0.148847</td>\n",
       "      <td>1032</td>\n",
       "      <td>3</td>\n",
       "      <td>0.150655</td>\n",
       "      <td>69</td>\n",
       "      <td>2</td>\n",
       "      <td>0.078261</td>\n",
       "      <td>4</td>\n",
       "      <td>0.254144</td>\n",
       "      <td>0.040816</td>\n",
       "      <td>21829</td>\n",
       "      <td>3</td>\n",
       "      <td>0.301775</td>\n",
       "      <td>13</td>\n",
       "      <td>3</td>\n",
       "      <td>1</td>\n",
       "      <td>0</td>\n",
       "      <td>4</td>\n",
       "      <td>3</td>\n",
       "      <td>5</td>\n",
       "      <td>4</td>\n",
       "    </tr>\n",
       "    <tr>\n",
       "      <th>562</th>\n",
       "      <td>33</td>\n",
       "      <td>1</td>\n",
       "      <td>0.154403</td>\n",
       "      <td>527</td>\n",
       "      <td>0.132992</td>\n",
       "      <td>1</td>\n",
       "      <td>4</td>\n",
       "      <td>0.101449</td>\n",
       "      <td>780</td>\n",
       "      <td>4</td>\n",
       "      <td>0.169916</td>\n",
       "      <td>63</td>\n",
       "      <td>3</td>\n",
       "      <td>0.144681</td>\n",
       "      <td>4</td>\n",
       "      <td>0.254144</td>\n",
       "      <td>0.265306</td>\n",
       "      <td>5207</td>\n",
       "      <td>1</td>\n",
       "      <td>0.301775</td>\n",
       "      <td>13</td>\n",
       "      <td>3</td>\n",
       "      <td>3</td>\n",
       "      <td>0</td>\n",
       "      <td>2</td>\n",
       "      <td>2</td>\n",
       "      <td>10</td>\n",
       "      <td>7</td>\n",
       "    </tr>\n",
       "    <tr>\n",
       "      <th>1310</th>\n",
       "      <td>58</td>\n",
       "      <td>0</td>\n",
       "      <td>0.238739</td>\n",
       "      <td>1216</td>\n",
       "      <td>0.132992</td>\n",
       "      <td>15</td>\n",
       "      <td>4</td>\n",
       "      <td>0.148847</td>\n",
       "      <td>1837</td>\n",
       "      <td>1</td>\n",
       "      <td>0.169916</td>\n",
       "      <td>87</td>\n",
       "      <td>3</td>\n",
       "      <td>0.015873</td>\n",
       "      <td>3</td>\n",
       "      <td>0.135780</td>\n",
       "      <td>0.040816</td>\n",
       "      <td>21624</td>\n",
       "      <td>2</td>\n",
       "      <td>0.301775</td>\n",
       "      <td>14</td>\n",
       "      <td>3</td>\n",
       "      <td>2</td>\n",
       "      <td>0</td>\n",
       "      <td>3</td>\n",
       "      <td>3</td>\n",
       "      <td>2</td>\n",
       "      <td>2</td>\n",
       "    </tr>\n",
       "  </tbody>\n",
       "</table>\n",
       "</div>"
      ],
      "text/plain": [
       "      Age  Attrition  BusinessTravel  DailyRate  Department  DistanceFromHome  \\\n",
       "473    49          0        0.154403       1245    0.132992                18   \n",
       "1453   36          0        0.154403       1120    0.225806                11   \n",
       "743    59          0        0.154403        715    0.132992                 2   \n",
       "562    33          1        0.154403        527    0.132992                 1   \n",
       "1310   58          0        0.238739       1216    0.132992                15   \n",
       "\n",
       "      Education  EducationField  EmployeeNumber  EnvironmentSatisfaction  \\\n",
       "473           4        0.148847             638                        4   \n",
       "1453          4        0.229508            2045                        2   \n",
       "743           3        0.148847            1032                        3   \n",
       "562           4        0.101449             780                        4   \n",
       "1310          4        0.148847            1837                        1   \n",
       "\n",
       "        Gender  HourlyRate  JobInvolvement   JobRole  JobSatisfaction  \\\n",
       "473   0.169916          58               2  0.015873                3   \n",
       "1453  0.150655         100               2  0.200820                4   \n",
       "743   0.150655          69               2  0.078261                4   \n",
       "562   0.169916          63               3  0.144681                4   \n",
       "1310  0.169916          87               3  0.015873                3   \n",
       "\n",
       "      MaritalStatus  MonthlyIncome  MonthlyRate  NumCompaniesWorked  OverTime  \\\n",
       "473        0.092937       0.040816         2125                   1  0.301775   \n",
       "1453       0.135780       0.088435        14369                   4  0.106205   \n",
       "743        0.254144       0.040816        21829                   3  0.301775   \n",
       "562        0.254144       0.265306         5207                   1  0.301775   \n",
       "1310       0.135780       0.040816        21624                   2  0.301775   \n",
       "\n",
       "      PercentSalaryHike  PerformanceRating  RelationshipSatisfaction  \\\n",
       "473                  17                  3                         3   \n",
       "1453                 13                  3                         1   \n",
       "743                  13                  3                         1   \n",
       "562                  13                  3                         3   \n",
       "1310                 14                  3                         2   \n",
       "\n",
       "      StockOptionLevel  TrainingTimesLastYear  WorkLifeBalance  \\\n",
       "473                  1                      5                3   \n",
       "1453                 1                      2                2   \n",
       "743                  0                      4                3   \n",
       "562                  0                      2                2   \n",
       "1310                 0                      3                3   \n",
       "\n",
       "      YearsAtCompany  YearsSinceLastPromotion  \n",
       "473               20                        0  \n",
       "1453               6                        0  \n",
       "743                5                        4  \n",
       "562               10                        7  \n",
       "1310               2                        2  "
      ]
     },
     "execution_count": 36,
     "metadata": {},
     "output_type": "execute_result"
    }
   ],
   "source": [
    "# let's inspect the dataset\n",
    "X_train.head()"
   ]
  },
  {
   "cell_type": "markdown",
   "metadata": {},
   "source": [
    "We can see that the labels have now been replaced by the Attrition probability.\n",
    "\n",
    "### Feature scaling"
   ]
  },
  {
   "cell_type": "code",
   "execution_count": 37,
   "metadata": {},
   "outputs": [
    {
     "data": {
      "text/html": [
       "<div>\n",
       "<style scoped>\n",
       "    .dataframe tbody tr th:only-of-type {\n",
       "        vertical-align: middle;\n",
       "    }\n",
       "\n",
       "    .dataframe tbody tr th {\n",
       "        vertical-align: top;\n",
       "    }\n",
       "\n",
       "    .dataframe thead th {\n",
       "        text-align: right;\n",
       "    }\n",
       "</style>\n",
       "<table border=\"1\" class=\"dataframe\">\n",
       "  <thead>\n",
       "    <tr style=\"text-align: right;\">\n",
       "      <th></th>\n",
       "      <th>Age</th>\n",
       "      <th>Attrition</th>\n",
       "      <th>BusinessTravel</th>\n",
       "      <th>DailyRate</th>\n",
       "      <th>Department</th>\n",
       "      <th>DistanceFromHome</th>\n",
       "      <th>Education</th>\n",
       "      <th>EducationField</th>\n",
       "      <th>EmployeeNumber</th>\n",
       "      <th>EnvironmentSatisfaction</th>\n",
       "      <th>Gender</th>\n",
       "      <th>HourlyRate</th>\n",
       "      <th>JobInvolvement</th>\n",
       "      <th>JobRole</th>\n",
       "      <th>JobSatisfaction</th>\n",
       "      <th>MaritalStatus</th>\n",
       "      <th>MonthlyIncome</th>\n",
       "      <th>MonthlyRate</th>\n",
       "      <th>NumCompaniesWorked</th>\n",
       "      <th>OverTime</th>\n",
       "      <th>PercentSalaryHike</th>\n",
       "      <th>PerformanceRating</th>\n",
       "      <th>RelationshipSatisfaction</th>\n",
       "      <th>StockOptionLevel</th>\n",
       "      <th>TrainingTimesLastYear</th>\n",
       "      <th>WorkLifeBalance</th>\n",
       "      <th>YearsAtCompany</th>\n",
       "      <th>YearsSinceLastPromotion</th>\n",
       "    </tr>\n",
       "  </thead>\n",
       "  <tbody>\n",
       "    <tr>\n",
       "      <th>count</th>\n",
       "      <td>1176.000000</td>\n",
       "      <td>1176.000000</td>\n",
       "      <td>1176.000000</td>\n",
       "      <td>1176.000000</td>\n",
       "      <td>1176.000000</td>\n",
       "      <td>1176.000000</td>\n",
       "      <td>1176.000000</td>\n",
       "      <td>1176.000000</td>\n",
       "      <td>1176.000000</td>\n",
       "      <td>1176.000000</td>\n",
       "      <td>1176.000000</td>\n",
       "      <td>1176.000000</td>\n",
       "      <td>1176.000000</td>\n",
       "      <td>1176.000000</td>\n",
       "      <td>1176.000000</td>\n",
       "      <td>1176.000000</td>\n",
       "      <td>1176.000000</td>\n",
       "      <td>1176.000000</td>\n",
       "      <td>1176.000000</td>\n",
       "      <td>1176.000000</td>\n",
       "      <td>1176.000000</td>\n",
       "      <td>1176.000000</td>\n",
       "      <td>1176.000000</td>\n",
       "      <td>1176.000000</td>\n",
       "      <td>1176.000000</td>\n",
       "      <td>1176.000000</td>\n",
       "      <td>1176.000000</td>\n",
       "      <td>1176.000000</td>\n",
       "    </tr>\n",
       "    <tr>\n",
       "      <th>mean</th>\n",
       "      <td>37.045918</td>\n",
       "      <td>0.162415</td>\n",
       "      <td>0.162415</td>\n",
       "      <td>807.255952</td>\n",
       "      <td>0.162415</td>\n",
       "      <td>9.059524</td>\n",
       "      <td>2.918367</td>\n",
       "      <td>0.162415</td>\n",
       "      <td>1018.935374</td>\n",
       "      <td>2.732143</td>\n",
       "      <td>0.162415</td>\n",
       "      <td>65.506803</td>\n",
       "      <td>2.719388</td>\n",
       "      <td>0.162415</td>\n",
       "      <td>2.727041</td>\n",
       "      <td>0.162415</td>\n",
       "      <td>0.162415</td>\n",
       "      <td>14378.864796</td>\n",
       "      <td>2.734694</td>\n",
       "      <td>0.162415</td>\n",
       "      <td>15.147959</td>\n",
       "      <td>3.144558</td>\n",
       "      <td>2.701531</td>\n",
       "      <td>0.796769</td>\n",
       "      <td>2.801020</td>\n",
       "      <td>2.745748</td>\n",
       "      <td>6.732143</td>\n",
       "      <td>2.121599</td>\n",
       "    </tr>\n",
       "    <tr>\n",
       "      <th>std</th>\n",
       "      <td>9.179789</td>\n",
       "      <td>0.368988</td>\n",
       "      <td>0.043226</td>\n",
       "      <td>403.201391</td>\n",
       "      <td>0.042113</td>\n",
       "      <td>7.861126</td>\n",
       "      <td>1.014014</td>\n",
       "      <td>0.041265</td>\n",
       "      <td>601.832567</td>\n",
       "      <td>1.085543</td>\n",
       "      <td>0.009396</td>\n",
       "      <td>20.066696</td>\n",
       "      <td>0.721345</td>\n",
       "      <td>0.093024</td>\n",
       "      <td>1.099083</td>\n",
       "      <td>0.063454</td>\n",
       "      <td>0.084622</td>\n",
       "      <td>7088.224439</td>\n",
       "      <td>2.530701</td>\n",
       "      <td>0.088544</td>\n",
       "      <td>3.606171</td>\n",
       "      <td>0.351804</td>\n",
       "      <td>1.079100</td>\n",
       "      <td>0.840682</td>\n",
       "      <td>1.283426</td>\n",
       "      <td>0.697094</td>\n",
       "      <td>5.333685</td>\n",
       "      <td>2.996681</td>\n",
       "    </tr>\n",
       "    <tr>\n",
       "      <th>min</th>\n",
       "      <td>18.000000</td>\n",
       "      <td>0.000000</td>\n",
       "      <td>0.080000</td>\n",
       "      <td>104.000000</td>\n",
       "      <td>0.132992</td>\n",
       "      <td>1.000000</td>\n",
       "      <td>1.000000</td>\n",
       "      <td>0.101449</td>\n",
       "      <td>2.000000</td>\n",
       "      <td>1.000000</td>\n",
       "      <td>0.150655</td>\n",
       "      <td>30.000000</td>\n",
       "      <td>1.000000</td>\n",
       "      <td>0.015873</td>\n",
       "      <td>1.000000</td>\n",
       "      <td>0.092937</td>\n",
       "      <td>0.040816</td>\n",
       "      <td>2094.000000</td>\n",
       "      <td>0.000000</td>\n",
       "      <td>0.106205</td>\n",
       "      <td>11.000000</td>\n",
       "      <td>3.000000</td>\n",
       "      <td>1.000000</td>\n",
       "      <td>0.000000</td>\n",
       "      <td>0.000000</td>\n",
       "      <td>1.000000</td>\n",
       "      <td>0.000000</td>\n",
       "      <td>0.000000</td>\n",
       "    </tr>\n",
       "    <tr>\n",
       "      <th>25%</th>\n",
       "      <td>30.000000</td>\n",
       "      <td>0.000000</td>\n",
       "      <td>0.154403</td>\n",
       "      <td>469.000000</td>\n",
       "      <td>0.132992</td>\n",
       "      <td>2.000000</td>\n",
       "      <td>2.000000</td>\n",
       "      <td>0.140212</td>\n",
       "      <td>478.750000</td>\n",
       "      <td>2.000000</td>\n",
       "      <td>0.150655</td>\n",
       "      <td>48.000000</td>\n",
       "      <td>2.000000</td>\n",
       "      <td>0.078261</td>\n",
       "      <td>2.000000</td>\n",
       "      <td>0.135780</td>\n",
       "      <td>0.108844</td>\n",
       "      <td>8410.000000</td>\n",
       "      <td>1.000000</td>\n",
       "      <td>0.106205</td>\n",
       "      <td>12.000000</td>\n",
       "      <td>3.000000</td>\n",
       "      <td>2.000000</td>\n",
       "      <td>0.000000</td>\n",
       "      <td>2.000000</td>\n",
       "      <td>2.000000</td>\n",
       "      <td>3.000000</td>\n",
       "      <td>0.000000</td>\n",
       "    </tr>\n",
       "    <tr>\n",
       "      <th>50%</th>\n",
       "      <td>36.000000</td>\n",
       "      <td>0.000000</td>\n",
       "      <td>0.154403</td>\n",
       "      <td>805.000000</td>\n",
       "      <td>0.132992</td>\n",
       "      <td>7.000000</td>\n",
       "      <td>3.000000</td>\n",
       "      <td>0.148847</td>\n",
       "      <td>1016.500000</td>\n",
       "      <td>3.000000</td>\n",
       "      <td>0.169916</td>\n",
       "      <td>65.000000</td>\n",
       "      <td>3.000000</td>\n",
       "      <td>0.144681</td>\n",
       "      <td>3.000000</td>\n",
       "      <td>0.135780</td>\n",
       "      <td>0.146259</td>\n",
       "      <td>14036.500000</td>\n",
       "      <td>2.000000</td>\n",
       "      <td>0.106205</td>\n",
       "      <td>14.000000</td>\n",
       "      <td>3.000000</td>\n",
       "      <td>3.000000</td>\n",
       "      <td>1.000000</td>\n",
       "      <td>3.000000</td>\n",
       "      <td>3.000000</td>\n",
       "      <td>5.000000</td>\n",
       "      <td>1.000000</td>\n",
       "    </tr>\n",
       "    <tr>\n",
       "      <th>75%</th>\n",
       "      <td>43.000000</td>\n",
       "      <td>0.000000</td>\n",
       "      <td>0.154403</td>\n",
       "      <td>1174.500000</td>\n",
       "      <td>0.225806</td>\n",
       "      <td>14.000000</td>\n",
       "      <td>4.000000</td>\n",
       "      <td>0.148847</td>\n",
       "      <td>1560.500000</td>\n",
       "      <td>4.000000</td>\n",
       "      <td>0.169916</td>\n",
       "      <td>83.000000</td>\n",
       "      <td>3.000000</td>\n",
       "      <td>0.222222</td>\n",
       "      <td>4.000000</td>\n",
       "      <td>0.254144</td>\n",
       "      <td>0.204082</td>\n",
       "      <td>20472.500000</td>\n",
       "      <td>4.000000</td>\n",
       "      <td>0.301775</td>\n",
       "      <td>18.000000</td>\n",
       "      <td>3.000000</td>\n",
       "      <td>4.000000</td>\n",
       "      <td>1.000000</td>\n",
       "      <td>3.000000</td>\n",
       "      <td>3.000000</td>\n",
       "      <td>9.000000</td>\n",
       "      <td>3.000000</td>\n",
       "    </tr>\n",
       "    <tr>\n",
       "      <th>max</th>\n",
       "      <td>60.000000</td>\n",
       "      <td>1.000000</td>\n",
       "      <td>0.238739</td>\n",
       "      <td>1499.000000</td>\n",
       "      <td>0.225806</td>\n",
       "      <td>26.000000</td>\n",
       "      <td>5.000000</td>\n",
       "      <td>0.250000</td>\n",
       "      <td>2068.000000</td>\n",
       "      <td>4.000000</td>\n",
       "      <td>0.169916</td>\n",
       "      <td>100.000000</td>\n",
       "      <td>4.000000</td>\n",
       "      <td>0.402985</td>\n",
       "      <td>4.000000</td>\n",
       "      <td>0.254144</td>\n",
       "      <td>0.312925</td>\n",
       "      <td>26999.000000</td>\n",
       "      <td>9.000000</td>\n",
       "      <td>0.301775</td>\n",
       "      <td>25.000000</td>\n",
       "      <td>4.000000</td>\n",
       "      <td>4.000000</td>\n",
       "      <td>3.000000</td>\n",
       "      <td>6.000000</td>\n",
       "      <td>4.000000</td>\n",
       "      <td>20.000000</td>\n",
       "      <td>11.000000</td>\n",
       "    </tr>\n",
       "  </tbody>\n",
       "</table>\n",
       "</div>"
      ],
      "text/plain": [
       "               Age    Attrition  BusinessTravel    DailyRate   Department  \\\n",
       "count  1176.000000  1176.000000     1176.000000  1176.000000  1176.000000   \n",
       "mean     37.045918     0.162415        0.162415   807.255952     0.162415   \n",
       "std       9.179789     0.368988        0.043226   403.201391     0.042113   \n",
       "min      18.000000     0.000000        0.080000   104.000000     0.132992   \n",
       "25%      30.000000     0.000000        0.154403   469.000000     0.132992   \n",
       "50%      36.000000     0.000000        0.154403   805.000000     0.132992   \n",
       "75%      43.000000     0.000000        0.154403  1174.500000     0.225806   \n",
       "max      60.000000     1.000000        0.238739  1499.000000     0.225806   \n",
       "\n",
       "       DistanceFromHome    Education  EducationField  EmployeeNumber  \\\n",
       "count       1176.000000  1176.000000     1176.000000     1176.000000   \n",
       "mean           9.059524     2.918367        0.162415     1018.935374   \n",
       "std            7.861126     1.014014        0.041265      601.832567   \n",
       "min            1.000000     1.000000        0.101449        2.000000   \n",
       "25%            2.000000     2.000000        0.140212      478.750000   \n",
       "50%            7.000000     3.000000        0.148847     1016.500000   \n",
       "75%           14.000000     4.000000        0.148847     1560.500000   \n",
       "max           26.000000     5.000000        0.250000     2068.000000   \n",
       "\n",
       "       EnvironmentSatisfaction       Gender   HourlyRate  JobInvolvement  \\\n",
       "count              1176.000000  1176.000000  1176.000000     1176.000000   \n",
       "mean                  2.732143     0.162415    65.506803        2.719388   \n",
       "std                   1.085543     0.009396    20.066696        0.721345   \n",
       "min                   1.000000     0.150655    30.000000        1.000000   \n",
       "25%                   2.000000     0.150655    48.000000        2.000000   \n",
       "50%                   3.000000     0.169916    65.000000        3.000000   \n",
       "75%                   4.000000     0.169916    83.000000        3.000000   \n",
       "max                   4.000000     0.169916   100.000000        4.000000   \n",
       "\n",
       "           JobRole  JobSatisfaction  MaritalStatus  MonthlyIncome  \\\n",
       "count  1176.000000      1176.000000    1176.000000    1176.000000   \n",
       "mean      0.162415         2.727041       0.162415       0.162415   \n",
       "std       0.093024         1.099083       0.063454       0.084622   \n",
       "min       0.015873         1.000000       0.092937       0.040816   \n",
       "25%       0.078261         2.000000       0.135780       0.108844   \n",
       "50%       0.144681         3.000000       0.135780       0.146259   \n",
       "75%       0.222222         4.000000       0.254144       0.204082   \n",
       "max       0.402985         4.000000       0.254144       0.312925   \n",
       "\n",
       "        MonthlyRate  NumCompaniesWorked     OverTime  PercentSalaryHike  \\\n",
       "count   1176.000000         1176.000000  1176.000000        1176.000000   \n",
       "mean   14378.864796            2.734694     0.162415          15.147959   \n",
       "std     7088.224439            2.530701     0.088544           3.606171   \n",
       "min     2094.000000            0.000000     0.106205          11.000000   \n",
       "25%     8410.000000            1.000000     0.106205          12.000000   \n",
       "50%    14036.500000            2.000000     0.106205          14.000000   \n",
       "75%    20472.500000            4.000000     0.301775          18.000000   \n",
       "max    26999.000000            9.000000     0.301775          25.000000   \n",
       "\n",
       "       PerformanceRating  RelationshipSatisfaction  StockOptionLevel  \\\n",
       "count        1176.000000               1176.000000       1176.000000   \n",
       "mean            3.144558                  2.701531          0.796769   \n",
       "std             0.351804                  1.079100          0.840682   \n",
       "min             3.000000                  1.000000          0.000000   \n",
       "25%             3.000000                  2.000000          0.000000   \n",
       "50%             3.000000                  3.000000          1.000000   \n",
       "75%             3.000000                  4.000000          1.000000   \n",
       "max             4.000000                  4.000000          3.000000   \n",
       "\n",
       "       TrainingTimesLastYear  WorkLifeBalance  YearsAtCompany  \\\n",
       "count            1176.000000      1176.000000     1176.000000   \n",
       "mean                2.801020         2.745748        6.732143   \n",
       "std                 1.283426         0.697094        5.333685   \n",
       "min                 0.000000         1.000000        0.000000   \n",
       "25%                 2.000000         2.000000        3.000000   \n",
       "50%                 3.000000         3.000000        5.000000   \n",
       "75%                 3.000000         3.000000        9.000000   \n",
       "max                 6.000000         4.000000       20.000000   \n",
       "\n",
       "       YearsSinceLastPromotion  \n",
       "count              1176.000000  \n",
       "mean                  2.121599  \n",
       "std                   2.996681  \n",
       "min                   0.000000  \n",
       "25%                   0.000000  \n",
       "50%                   1.000000  \n",
       "75%                   3.000000  \n",
       "max                  11.000000  "
      ]
     },
     "execution_count": 37,
     "metadata": {},
     "output_type": "execute_result"
    }
   ],
   "source": [
    "X_train.describe()"
   ]
  },
  {
   "cell_type": "code",
   "execution_count": 38,
   "metadata": {},
   "outputs": [
    {
     "data": {
      "text/plain": [
       "['Age',\n",
       " 'BusinessTravel',\n",
       " 'DailyRate',\n",
       " 'Department',\n",
       " 'DistanceFromHome',\n",
       " 'Education',\n",
       " 'EducationField',\n",
       " 'EnvironmentSatisfaction',\n",
       " 'Gender',\n",
       " 'HourlyRate',\n",
       " 'JobInvolvement',\n",
       " 'JobRole',\n",
       " 'JobSatisfaction',\n",
       " 'MaritalStatus',\n",
       " 'MonthlyIncome',\n",
       " 'MonthlyRate',\n",
       " 'NumCompaniesWorked',\n",
       " 'OverTime',\n",
       " 'PercentSalaryHike',\n",
       " 'PerformanceRating',\n",
       " 'RelationshipSatisfaction',\n",
       " 'StockOptionLevel',\n",
       " 'TrainingTimesLastYear',\n",
       " 'WorkLifeBalance',\n",
       " 'YearsAtCompany',\n",
       " 'YearsSinceLastPromotion']"
      ]
     },
     "execution_count": 38,
     "metadata": {},
     "output_type": "execute_result"
    }
   ],
   "source": [
    "training_vars = [var for var in X_train.columns if var not in ['EmployeeNumber', 'Attrition']]\n",
    "training_vars"
   ]
  },
  {
   "cell_type": "code",
   "execution_count": 39,
   "metadata": {},
   "outputs": [
    {
     "data": {
      "text/plain": [
       "MinMaxScaler(copy=True, feature_range=(0, 1))"
      ]
     },
     "execution_count": 39,
     "metadata": {},
     "output_type": "execute_result"
    }
   ],
   "source": [
    "# fit scaler\n",
    "scaler = MinMaxScaler() # create an instance\n",
    "scaler.fit(X_train[training_vars]) # fit the scaler to the train set"
   ]
  },
  {
   "cell_type": "markdown",
   "metadata": {},
   "source": [
    "The scaler is now ready, we can use it in a machine learning algorithm when required.\n",
    "\n",
    "### Machine Learning algorithm building\n",
    "\n",
    "#### xgboost"
   ]
  },
  {
   "cell_type": "code",
   "execution_count": 40,
   "metadata": {},
   "outputs": [],
   "source": [
    "# transforming the training and test datasets\n",
    "X_train = X_train[training_vars].as_matrix()\n",
    "X_test = X_test[training_vars].as_matrix()"
   ]
  },
  {
   "cell_type": "code",
   "execution_count": 41,
   "metadata": {},
   "outputs": [
    {
     "name": "stdout",
     "output_type": "stream",
     "text": [
      "xgb train roc-auc: 0.9752305525287692\n",
      "xgb test roc-auc: 0.7796283309957925\n",
      "xgb test accuracy: 0.8843537414965986\n"
     ]
    }
   ],
   "source": [
    "xgb_model = xgb.XGBClassifier(random_state = 18)\n",
    "eval_set = [(X_test, y_test)]\n",
    "xgb_model.fit(X_train, y_train, eval_metric = \"auc\", eval_set = eval_set, verbose = False)\n",
    "\n",
    "pred = xgb_model.predict_proba(X_train)\n",
    "print('xgb train roc-auc: {}'.format(roc_auc_score(y_train, pred[:, 1])))\n",
    "pred = xgb_model.predict_proba(X_test)\n",
    "print('xgb test roc-auc: {}'.format(roc_auc_score(y_test, pred[:, 1])))\n",
    "print('xgb test accuracy: {}'.format(xgb_model.score(X_test, y_test)))"
   ]
  },
  {
   "cell_type": "markdown",
   "metadata": {},
   "source": [
    "#### Random Forests"
   ]
  },
  {
   "cell_type": "code",
   "execution_count": 42,
   "metadata": {},
   "outputs": [
    {
     "name": "stdout",
     "output_type": "stream",
     "text": [
      "RF train roc-auc: 0.9996412150849124\n",
      "RF test roc-auc: 0.6530066619915849\n",
      "RF test accuracy: 0.8537414965986394\n"
     ]
    }
   ],
   "source": [
    "rf_model = RandomForestClassifier(random_state = 18)\n",
    "rf_model.fit(X_train, y_train)\n",
    "\n",
    "pred = rf_model.predict_proba(X_train)\n",
    "print('RF train roc-auc: {}'.format(roc_auc_score(y_train, pred[:, 1])))\n",
    "pred = rf_model.predict_proba(X_test)\n",
    "print('RF test roc-auc: {}'.format(roc_auc_score(y_test, pred[:, 1])))\n",
    "print('RF test accuracy: {}'.format(rf_model.score(X_test, y_test)))"
   ]
  },
  {
   "cell_type": "markdown",
   "metadata": {},
   "source": [
    "#### Adaboost"
   ]
  },
  {
   "cell_type": "code",
   "execution_count": 43,
   "metadata": {},
   "outputs": [
    {
     "name": "stdout",
     "output_type": "stream",
     "text": [
      "Adaboost train roc-auc: 0.9227150716240997\n",
      "Adaboost test roc-auc: 0.7855890603085554\n",
      "Adaboost test accuracy: 0.8809523809523809\n"
     ]
    }
   ],
   "source": [
    "ada_model = AdaBoostClassifier(random_state = 18)\n",
    "ada_model.fit(X_train, y_train)\n",
    "\n",
    "pred = ada_model.predict_proba(X_train)\n",
    "print('Adaboost train roc-auc: {}'.format(roc_auc_score(y_train, pred[:, 1])))\n",
    "pred = ada_model.predict_proba(X_test)\n",
    "print('Adaboost test roc-auc: {}'.format(roc_auc_score(y_test, pred[:, 1])))\n",
    "print('Adaboost test accuracy: {}'.format(ada_model.score(X_test, y_test)))"
   ]
  },
  {
   "cell_type": "markdown",
   "metadata": {},
   "source": [
    "#### Logistic regression"
   ]
  },
  {
   "cell_type": "code",
   "execution_count": 44,
   "metadata": {},
   "outputs": [
    {
     "name": "stdout",
     "output_type": "stream",
     "text": [
      "Logit train roc-auc: 0.7539160709065298\n",
      "Logit test roc-auc: 0.7223001402524544\n",
      "Logit test accuracy: 0.8503401360544217\n"
     ]
    }
   ],
   "source": [
    "logit_model = LogisticRegression(random_state = 18)\n",
    "logit_model.fit(X_train, y_train)\n",
    "\n",
    "pred = logit_model.predict_proba(X_train)\n",
    "print('Logit train roc-auc: {}'.format(roc_auc_score(y_train, pred[:, 1])))\n",
    "pred = logit_model.predict_proba(X_test)\n",
    "print('Logit test roc-auc: {}'.format(roc_auc_score(y_test, pred[:, 1])))\n",
    "print('Logit test accuracy: {}'.format(logit_model.score(X_test, y_test)))"
   ]
  },
  {
   "cell_type": "markdown",
   "metadata": {},
   "source": [
    "### Feature importance"
   ]
  },
  {
   "cell_type": "code",
   "execution_count": 45,
   "metadata": {
    "scrolled": false
   },
   "outputs": [
    {
     "data": {
      "text/plain": [
       "<matplotlib.axes._subplots.AxesSubplot at 0x21fce6f6c88>"
      ]
     },
     "execution_count": 45,
     "metadata": {},
     "output_type": "execute_result"
    },
    {
     "data": {
      "image/png": "[encoded data removed]",
      "text/plain": [
       "<Figure size 864x432 with 1 Axes>"
      ]
     },
     "metadata": {
      "needs_background": "light"
     },
     "output_type": "display_data"
    }
   ],
   "source": [
    "importance = pd.Series(xgb_model.feature_importances_)\n",
    "importance.index = training_vars\n",
    "importance.sort_values(inplace = True, ascending = False)\n",
    "importance.plot.bar(figsize = (12, 6))"
   ]
  },
  {
   "cell_type": "code",
   "execution_count": 46,
   "metadata": {
    "scrolled": false
   },
   "outputs": [
    {
     "data": {
      "text/plain": [
       "<matplotlib.axes._subplots.AxesSubplot at 0x21fcec59198>"
      ]
     },
     "execution_count": 46,
     "metadata": {},
     "output_type": "execute_result"
    },
    {
     "data": {
      "image/png": "[encoded data removed]",
      "text/plain": [
       "<Figure size 864x432 with 1 Axes>"
      ]
     },
     "metadata": {
      "needs_background": "light"
     },
     "output_type": "display_data"
    }
   ],
   "source": [
    "importance = pd.Series(rf_model.feature_importances_)\n",
    "importance.index = training_vars\n",
    "importance.sort_values(inplace = True, ascending = False)\n",
    "importance.plot.bar(figsize = (12, 6))"
   ]
  },
  {
   "cell_type": "code",
   "execution_count": 47,
   "metadata": {},
   "outputs": [
    {
     "data": {
      "text/plain": [
       "<matplotlib.axes._subplots.AxesSubplot at 0x21fced294a8>"
      ]
     },
     "execution_count": 47,
     "metadata": {},
     "output_type": "execute_result"
    },
    {
     "data": {
      "image/png": "[encoded data removed]",
      "text/plain": [
       "<Figure size 864x432 with 1 Axes>"
      ]
     },
     "metadata": {
      "needs_background": "light"
     },
     "output_type": "display_data"
    }
   ],
   "source": [
    "importance = pd.Series(np.abs(logit_model.coef_.ravel()))\n",
    "importance.index = training_vars\n",
    "importance.sort_values(inplace = True, ascending = False)\n",
    "importance.plot.bar(figsize = (12, 6))"
   ]
  },
  {
   "cell_type": "markdown",
   "metadata": {},
   "source": [
    "### Model Evaluation"
   ]
  },
  {
   "cell_type": "code",
   "execution_count": 48,
   "metadata": {},
   "outputs": [],
   "source": [
    "def draw_roc(actual, preds):\n",
    "    fpr, tpr, thresholds = metrics.roc_curve(actual, preds, drop_intermediate = False)\n",
    "    auc_score = metrics.roc_auc_score(actual, preds)\n",
    "    plt.figure(figsize = (6, 4))\n",
    "    plt.plot(fpr, tpr, label = 'ROC curve (area = %0.2f)' % auc_score)\n",
    "    plt.plot([0, 1], [0, 1], 'k--')\n",
    "    plt.xlim([0.0, 1.0])\n",
    "    plt.ylim([0.0, 1.05])\n",
    "    plt.xlabel('False Positive Rate or [1 - True Negative Rate]')\n",
    "    plt.ylabel('True Positive Rate')\n",
    "    plt.title('Receiver operating characteristics graph')\n",
    "    plt.legend(loc = 'lower right')\n",
    "    plt.show()\n",
    "    \n",
    "    return fpr, tpr, thresholds"
   ]
  },
  {
   "cell_type": "markdown",
   "metadata": {},
   "source": [
    "I'm choosing xgboost as my final model to evaluate as it was giving some good inital stats"
   ]
  },
  {
   "cell_type": "code",
   "execution_count": 76,
   "metadata": {},
   "outputs": [],
   "source": [
    "probs = xgb_model.predict_proba(X_test)\n",
    "preds = probs[:, 1]\n",
    "prob_func = lambda x: 1 if x >= 0.4 else 0\n",
    "vfunc = np.vectorize(prob_func)\n",
    "preds = vfunc(preds)"
   ]
  },
  {
   "cell_type": "code",
   "execution_count": 77,
   "metadata": {},
   "outputs": [
    {
     "data": {
      "image/png": "[encoded data removed]",
      "text/plain": [
       "<Figure size 432x288 with 1 Axes>"
      ]
     },
     "metadata": {
      "needs_background": "light"
     },
     "output_type": "display_data"
    },
    {
     "data": {
      "text/plain": [
       "(array([0.        , 0.04435484, 1.        ]),\n",
       " array([0.        , 0.52173913, 1.        ]),\n",
       " array([2, 1, 0]))"
      ]
     },
     "execution_count": 77,
     "metadata": {},
     "output_type": "execute_result"
    }
   ],
   "source": [
    "draw_roc(y_test, preds)"
   ]
  },
  {
   "cell_type": "code",
   "execution_count": 78,
   "metadata": {},
   "outputs": [
    {
     "data": {
      "text/plain": [
       "array([[237,  11],\n",
       "       [ 22,  24]], dtype=int64)"
      ]
     },
     "execution_count": 78,
     "metadata": {},
     "output_type": "execute_result"
    }
   ],
   "source": [
    "# Create the confusion matrix\n",
    "confusion = metrics.confusion_matrix(y_test, preds)\n",
    "confusion"
   ]
  },
  {
   "cell_type": "code",
   "execution_count": 79,
   "metadata": {},
   "outputs": [],
   "source": [
    "TN = confusion[0, 0] # true negative\n",
    "FP = confusion[0, 1] # false positive\n",
    "FN = confusion[1, 0] # false negative\n",
    "TP = confusion[1, 1] # true positive"
   ]
  },
  {
   "cell_type": "code",
   "execution_count": 80,
   "metadata": {},
   "outputs": [
    {
     "data": {
      "text/plain": [
       "0.5217391304347826"
      ]
     },
     "execution_count": 80,
     "metadata": {},
     "output_type": "execute_result"
    }
   ],
   "source": [
    "# the sensitivity of model\n",
    "TP / float(TP + FN)"
   ]
  },
  {
   "cell_type": "code",
   "execution_count": null,
   "metadata": {},
   "outputs": [],
   "source": []
  }
 ],
 "metadata": {
  "kernelspec": {
   "display_name": "Python 3",
   "language": "python",
   "name": "python3"
  },
  "language_info": {
   "codemirror_mode": {
    "name": "ipython",
    "version": 3
   },
   "file_extension": ".py",
   "mimetype": "text/x-python",
   "name": "python",
   "nbconvert_exporter": "python",
   "pygments_lexer": "ipython3",
   "version": "3.7.1"
  }
 },
 "nbformat": 4,
 "nbformat_minor": 2
}
